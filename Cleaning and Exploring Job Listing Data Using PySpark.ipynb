{
 "cells": [
  {
   "cell_type": "markdown",
   "metadata": {
    "application/vnd.databricks.v1+cell": {
     "cellMetadata": {
      "byteLimit": 2048000,
      "rowLimit": 10000
     },
     "inputWidgets": {},
     "nuid": "f753b883-7540-4589-a8a2-ff6e9f6ad8a7",
     "showTitle": false,
     "tableResultSettingsMap": {},
     "title": ""
    }
   },
   "source": [
    "## **Project Goal**"
   ]
  },
  {
   "cell_type": "markdown",
   "metadata": {
    "application/vnd.databricks.v1+cell": {
     "cellMetadata": {
      "byteLimit": 2048000,
      "rowLimit": 10000
     },
     "inputWidgets": {},
     "nuid": "8edf9652-9199-4a0c-81c5-0afc8a369087",
     "showTitle": false,
     "tableResultSettingsMap": {},
     "title": ""
    }
   },
   "source": [
    "Working on a job listings data scraped from multiple job boards (like LinkedIn, Indeed, Glassdoor, etc.), with the goal to:\n",
    "\n",
    "- Clean inconsistencies across job sources\n",
    "- Standardize fields like salary, skills, job titles\n",
    "- Extract and structure unstructured fields like requirements\n",
    "- Analyze trends like in-demand skills, top job titles, salary ranges by city"
   ]
  },
  {
   "cell_type": "code",
   "execution_count": 0,
   "metadata": {
    "application/vnd.databricks.v1+cell": {
     "cellMetadata": {
      "byteLimit": 2048000,
      "rowLimit": 10000
     },
     "inputWidgets": {},
     "nuid": "750e6d53-2730-41e4-8692-954856b679be",
     "showTitle": false,
     "tableResultSettingsMap": {},
     "title": ""
    }
   },
   "outputs": [],
   "source": [
    "from pyspark.sql.functions import when, col, split, to_date, coalesce, year, month, dayofmonth, trim, lower\n",
    "from pyspark.sql.functions import explode, array_contains, lit, transform"
   ]
  },
  {
   "cell_type": "markdown",
   "metadata": {
    "application/vnd.databricks.v1+cell": {
     "cellMetadata": {
      "byteLimit": 2048000,
      "rowLimit": 10000
     },
     "inputWidgets": {},
     "nuid": "ed77f3f0-8db6-44ff-ac0a-b4b13fca4264",
     "showTitle": false,
     "tableResultSettingsMap": {},
     "title": ""
    }
   },
   "source": [
    "## 1. Schema Design"
   ]
  },
  {
   "cell_type": "markdown",
   "metadata": {
    "application/vnd.databricks.v1+cell": {
     "cellMetadata": {
      "byteLimit": 2048000,
      "rowLimit": 10000
     },
     "inputWidgets": {},
     "nuid": "8068a6ad-5471-4d60-974b-375ac87d173c",
     "showTitle": false,
     "tableResultSettingsMap": {},
     "title": ""
    }
   },
   "source": [
    "I'll work on 4 messy but realistic datasets, ready to be used in Spark."
   ]
  },
  {
   "cell_type": "markdown",
   "metadata": {
    "application/vnd.databricks.v1+cell": {
     "cellMetadata": {
      "byteLimit": 2048000,
      "rowLimit": 10000
     },
     "inputWidgets": {},
     "nuid": "cc720a19-e78a-4f45-9771-2ba5a2c3a8e8",
     "showTitle": false,
     "tableResultSettingsMap": {},
     "title": ""
    }
   },
   "source": [
    "🟢 Jobs:\n",
    "\n",
    "- `job_id`: Unique ID for every job listing\n",
    "- `job_title`: (e.g., “Data Scientist”)\n",
    "- `post_date`: Date when listing was posted\n",
    "- `job_type`: (e.g., “Full-Time”, “FT”, “Contract”)\n",
    "- `city_location`: (e.g., “Toronto, ON”, “Montreal,Quebec”, “Remote”)\n",
    "\n",
    "🟢 Companies\n",
    "- `company_id`: Unique ID for every company\n",
    "- `company_name`: (e.g. “Google Inc”)\n",
    "- `industry`: (e.g., “Tech”, “Information Technology”)\n",
    "- `headquarters`:\t(e.g., \"Mountain View, CA\")\n",
    "- `founded\tYear`: The year when company was founded\n",
    "\n",
    "🟢 Requirements\n",
    "- `requirements_id`: Unique ID for every reqiremenet or skill\n",
    "- `experience_years`:\t(e.g., “2-4 years”, “3+”, “at least 1”)\n",
    "- `education_level`:\t(e.g., “Bachelor’s”, “B.Sc.”, “BS”, “None”)\n",
    "- `skills_required`:\t(e.g., “Python, SQL, ML, communication”)\n",
    "\n",
    "🟢 Salaries\n",
    "- `salary_id`:  Unique ID for every salary range\n",
    "- `salary_range`:  (e.g. “$60k-$80k/year”, “80,000 per annum”, “Negotiable”)\n",
    "- `currency`: (e.g., “CAD”, “USD”, “CAD$”)\n",
    "- `compensation_type`: (e.g., “Annual”, “Hourly”, “Contract”)"
   ]
  },
  {
   "cell_type": "markdown",
   "metadata": {
    "application/vnd.databricks.v1+cell": {
     "cellMetadata": {
      "byteLimit": 2048000,
      "rowLimit": 10000
     },
     "inputWidgets": {},
     "nuid": "2f7b5626-ab5c-48f0-8038-22f6c60428bd",
     "showTitle": false,
     "tableResultSettingsMap": {},
     "title": ""
    }
   },
   "source": [
    "## 2. Load Data"
   ]
  },
  {
   "cell_type": "markdown",
   "metadata": {
    "application/vnd.databricks.v1+cell": {
     "cellMetadata": {
      "byteLimit": 2048000,
      "rowLimit": 10000
     },
     "inputWidgets": {},
     "nuid": "1c689cfd-84c1-4a5b-995d-87ed325568b7",
     "showTitle": false,
     "tableResultSettingsMap": {},
     "title": ""
    }
   },
   "source": [
    "Here, it's time to load 4 datasets we have stored in database."
   ]
  },
  {
   "cell_type": "code",
   "execution_count": 0,
   "metadata": {
    "application/vnd.databricks.v1+cell": {
     "cellMetadata": {
      "byteLimit": 2048000,
      "rowLimit": 10000
     },
     "inputWidgets": {},
     "nuid": "2ceb03f6-ba6f-424f-bd46-5f9f5ab31072",
     "showTitle": false,
     "tableResultSettingsMap": {},
     "title": ""
    }
   },
   "outputs": [
    {
     "output_type": "stream",
     "name": "stdout",
     "output_type": "stream",
     "text": [
      "Table: companies\nTable: jobs\nTable: requirements\nTable: salaries\n"
     ]
    }
   ],
   "source": [
    "# List all tables in 'default' database\n",
    "tables = spark.catalog.listTables(\"default\")\n",
    "\n",
    "# Loop through and read each table into a DataFrame\n",
    "dfs = {}\n",
    "\n",
    "for table in tables:\n",
    "    table_name = table.name\n",
    "    print(f\"Table: {table_name}\")\n",
    "    df = spark.read.table(f\"default.{table_name}\")\n",
    "    dfs[table_name] = df\n"
   ]
  },
  {
   "cell_type": "markdown",
   "metadata": {
    "application/vnd.databricks.v1+cell": {
     "cellMetadata": {
      "byteLimit": 2048000,
      "rowLimit": 10000
     },
     "inputWidgets": {},
     "nuid": "badc65c3-942d-4354-aa2d-f83660076611",
     "showTitle": false,
     "tableResultSettingsMap": {},
     "title": ""
    }
   },
   "source": [
    "Now, we can store all tables in our database into separate dataframe."
   ]
  },
  {
   "cell_type": "code",
   "execution_count": 0,
   "metadata": {
    "application/vnd.databricks.v1+cell": {
     "cellMetadata": {
      "byteLimit": 2048000,
      "rowLimit": 10000
     },
     "inputWidgets": {},
     "nuid": "ca306f57-2397-4819-b235-b4c2a7f8630e",
     "showTitle": false,
     "tableResultSettingsMap": {},
     "title": ""
    }
   },
   "outputs": [],
   "source": [
    "jobs_df = spark.read.table(\"default.jobs\")\n",
    "companies_df = spark.read.table(\"default.companies\")\n",
    "requirements_df = spark.read.table(\"default.requirements\")\n",
    "salaries_df = spark.read.table(\"default.salaries\")"
   ]
  },
  {
   "cell_type": "markdown",
   "metadata": {
    "application/vnd.databricks.v1+cell": {
     "cellMetadata": {
      "byteLimit": 2048000,
      "rowLimit": 10000
     },
     "inputWidgets": {},
     "nuid": "74776a1a-e1f6-4ec4-8c98-84cf2600acc8",
     "showTitle": false,
     "tableResultSettingsMap": {},
     "title": ""
    }
   },
   "source": [
    "## 3. Data Cleaning Jobs"
   ]
  },
  {
   "cell_type": "markdown",
   "metadata": {
    "application/vnd.databricks.v1+cell": {
     "cellMetadata": {
      "byteLimit": 2048000,
      "rowLimit": 10000
     },
     "inputWidgets": {},
     "nuid": "e02ec10e-e0b1-4d36-9fe4-d34a4c68065b",
     "showTitle": false,
     "tableResultSettingsMap": {},
     "title": ""
    }
   },
   "source": [
    "### 3.1. Handle Null Values"
   ]
  },
  {
   "cell_type": "markdown",
   "metadata": {
    "application/vnd.databricks.v1+cell": {
     "cellMetadata": {
      "byteLimit": 2048000,
      "rowLimit": 10000
     },
     "inputWidgets": {},
     "nuid": "58394e1b-53fe-4b42-a1d9-c6d0e809fd77",
     "showTitle": false,
     "tableResultSettingsMap": {},
     "title": ""
    }
   },
   "source": [
    "Let's first see top 3 rows of data:"
   ]
  },
  {
   "cell_type": "code",
   "execution_count": 0,
   "metadata": {
    "application/vnd.databricks.v1+cell": {
     "cellMetadata": {
      "byteLimit": 2048000,
      "rowLimit": 10000
     },
     "inputWidgets": {},
     "nuid": "0978bd85-3c9e-46ae-9a9a-64a06009e5ef",
     "showTitle": false,
     "tableResultSettingsMap": {},
     "title": ""
    }
   },
   "outputs": [
    {
     "output_type": "display_data",
     "data": {
      "text/html": [
       "<style scoped>\n",
       "  .table-result-container {\n",
       "    max-height: 300px;\n",
       "    overflow: auto;\n",
       "  }\n",
       "  table, th, td {\n",
       "    border: 1px solid black;\n",
       "    border-collapse: collapse;\n",
       "  }\n",
       "  th, td {\n",
       "    padding: 5px;\n",
       "  }\n",
       "  th {\n",
       "    text-align: left;\n",
       "  }\n",
       "</style><div class='table-result-container'><table class='table-result'><thead style='background-color: white'><tr><th>job_id</th><th>job_title</th><th>company_id</th><th>post_date</th><th>job_type</th><th>city_location</th><th>requirements_id</th><th>salary_id</th></tr></thead><tbody><tr><td>j00000</td><td>Data Engineer</td><td>comp164</td><td>02-26-2025</td><td>Part-Time</td><td>Remote</td><td>req00000</td><td>sal00000</td></tr><tr><td>j00001</td><td>Data Analyst</td><td>comp029</td><td>06-24-2024</td><td>F/T</td><td>Edmonton, AB</td><td>req00001</td><td>sal00001</td></tr><tr><td>j00002</td><td>Data Analyst</td><td>comp007</td><td>03-24-2025</td><td>F/T</td><td>Ottawa, ON</td><td>req00002</td><td>sal00002</td></tr></tbody></table></div>"
      ]
     },
     "metadata": {
      "application/vnd.databricks.v1+output": {
       "addedWidgets": {},
       "aggData": [],
       "aggError": "",
       "aggOverflow": false,
       "aggSchema": [],
       "aggSeriesLimitReached": false,
       "aggType": "",
       "arguments": {},
       "columnCustomDisplayInfos": {},
       "data": [
        [
         "j00000",
         "Data Engineer",
         "comp164",
         "02-26-2025",
         "Part-Time",
         "Remote",
         "req00000",
         "sal00000"
        ],
        [
         "j00001",
         "Data Analyst",
         "comp029",
         "06-24-2024",
         "F/T",
         "Edmonton, AB",
         "req00001",
         "sal00001"
        ],
        [
         "j00002",
         "Data Analyst",
         "comp007",
         "03-24-2025",
         "F/T",
         "Ottawa, ON",
         "req00002",
         "sal00002"
        ]
       ],
       "datasetInfos": [],
       "dbfsResultPath": null,
       "isJsonSchema": true,
       "metadata": {},
       "overflow": false,
       "plotOptions": {
        "customPlotOptions": {},
        "displayType": "table",
        "pivotAggregation": null,
        "pivotColumns": null,
        "xColumns": null,
        "yColumns": null
       },
       "removedWidgets": [],
       "schema": [
        {
         "metadata": "{}",
         "name": "job_id",
         "type": "\"string\""
        },
        {
         "metadata": "{}",
         "name": "job_title",
         "type": "\"string\""
        },
        {
         "metadata": "{}",
         "name": "company_id",
         "type": "\"string\""
        },
        {
         "metadata": "{}",
         "name": "post_date",
         "type": "\"string\""
        },
        {
         "metadata": "{}",
         "name": "job_type",
         "type": "\"string\""
        },
        {
         "metadata": "{}",
         "name": "city_location",
         "type": "\"string\""
        },
        {
         "metadata": "{}",
         "name": "requirements_id",
         "type": "\"string\""
        },
        {
         "metadata": "{}",
         "name": "salary_id",
         "type": "\"string\""
        }
       ],
       "type": "table"
      }
     },
     "output_type": "display_data"
    }
   ],
   "source": [
    "jobs_df.limit(3).display()"
   ]
  },
  {
   "cell_type": "markdown",
   "metadata": {
    "application/vnd.databricks.v1+cell": {
     "cellMetadata": {
      "byteLimit": 2048000,
      "rowLimit": 10000
     },
     "inputWidgets": {},
     "nuid": "d153dacd-72ec-470b-9d23-e37ac531f659",
     "showTitle": false,
     "tableResultSettingsMap": {},
     "title": ""
    }
   },
   "source": [
    "First of all, we can see each column has how many null values:"
   ]
  },
  {
   "cell_type": "code",
   "execution_count": 0,
   "metadata": {
    "application/vnd.databricks.v1+cell": {
     "cellMetadata": {
      "byteLimit": 2048000,
      "rowLimit": 10000
     },
     "inputWidgets": {},
     "nuid": "583d36e9-76b6-46b4-9a29-9b019497f75f",
     "showTitle": false,
     "tableResultSettingsMap": {},
     "title": ""
    }
   },
   "outputs": [
    {
     "output_type": "stream",
     "name": "stdout",
     "output_type": "stream",
     "text": [
      " 'job_id' has: 0 null value\n 'job_title' has: 0 null value\n 'company_id' has: 0 null value\n 'post_date' has: 0 null value\n 'job_type' has: 0 null value\n 'city_location' has: 0 null value\n 'requirements_id' has: 0 null value\n 'salary_id' has: 0 null value\n"
     ]
    }
   ],
   "source": [
    "for COL_NAME in jobs_df.columns:\n",
    "    null_count = jobs_df.filter(col(COL_NAME).isNull()).count()\n",
    "    print(f\" '{COL_NAME}' has: {null_count} null value\")"
   ]
  },
  {
   "cell_type": "markdown",
   "metadata": {
    "application/vnd.databricks.v1+cell": {
     "cellMetadata": {
      "byteLimit": 2048000,
      "rowLimit": 10000
     },
     "inputWidgets": {},
     "nuid": "804e84d1-f2e6-4b8b-a397-8c5f54be487c",
     "showTitle": false,
     "tableResultSettingsMap": {},
     "title": ""
    }
   },
   "source": [
    "### 3.2. Handle Categorical Data"
   ]
  },
  {
   "cell_type": "markdown",
   "metadata": {
    "application/vnd.databricks.v1+cell": {
     "cellMetadata": {
      "byteLimit": 2048000,
      "rowLimit": 10000
     },
     "inputWidgets": {},
     "nuid": "9fadc98e-d218-4925-9160-5ea48c22b497",
     "showTitle": false,
     "tableResultSettingsMap": {},
     "title": ""
    }
   },
   "source": [
    "In this table, we have some categorical data as the following:\n",
    "- `job_title`\n",
    "- `job_type`\n",
    "- `city_location`\n",
    "\n",
    "for these columns, I'll check the unique values to make sure about consistency and reliability."
   ]
  },
  {
   "cell_type": "markdown",
   "metadata": {
    "application/vnd.databricks.v1+cell": {
     "cellMetadata": {
      "byteLimit": 2048000,
      "rowLimit": 10000
     },
     "inputWidgets": {},
     "nuid": "4262103f-b9a8-42ec-9a22-54dab8e68070",
     "showTitle": false,
     "tableResultSettingsMap": {},
     "title": ""
    }
   },
   "source": [
    "#### 3.2.1 `job_title`"
   ]
  },
  {
   "cell_type": "markdown",
   "metadata": {
    "application/vnd.databricks.v1+cell": {
     "cellMetadata": {
      "byteLimit": 2048000,
      "rowLimit": 10000
     },
     "inputWidgets": {},
     "nuid": "828b80ea-35ff-4ee6-94cc-f81f694be20f",
     "showTitle": false,
     "tableResultSettingsMap": {},
     "title": ""
    }
   },
   "source": [
    "We should see unique values to make sure about consistency:"
   ]
  },
  {
   "cell_type": "code",
   "execution_count": 0,
   "metadata": {
    "application/vnd.databricks.v1+cell": {
     "cellMetadata": {
      "byteLimit": 2048000,
      "rowLimit": 10000
     },
     "inputWidgets": {},
     "nuid": "657a9274-1bac-430f-b21d-21064b48c676",
     "showTitle": false,
     "tableResultSettingsMap": {},
     "title": ""
    }
   },
   "outputs": [
    {
     "output_type": "display_data",
     "data": {
      "text/plain": [
       "\u001B[0;36m  File \u001B[0;32m<command-1164924135469545>:5\u001B[0;36m\u001B[0m\n",
       "\u001B[0;31m    .rdd.flatMap(lambda x: x) \\ #Converts Row objects to plain values.\u001B[0m\n",
       "\u001B[0m                                                                      \n",
       "^\u001B[0m\n",
       "\u001B[0;31mSyntaxError\u001B[0m\u001B[0;31m:\u001B[0m unexpected character after line continuation character\n"
      ]
     },
     "metadata": {
      "application/vnd.databricks.v1+output": {
       "arguments": {},
       "data": "\u001B[0;36m  File \u001B[0;32m<command-1164924135469545>:5\u001B[0;36m\u001B[0m\n\u001B[0;31m    .rdd.flatMap(lambda x: x) \\ #Converts Row objects to plain values.\u001B[0m\n\u001B[0m                                                                      \n^\u001B[0m\n\u001B[0;31mSyntaxError\u001B[0m\u001B[0;31m:\u001B[0m unexpected character after line continuation character\n",
       "errorSummary": "<span class='ansi-red-fg'>SyntaxError</span>: unexpected character after line continuation character (<command-1164924135469545>, line 5)",
       "errorTraceType": "ansi",
       "metadata": {},
       "type": "ipynbError"
      }
     },
     "output_type": "display_data"
    }
   ],
   "source": [
    "print(\n",
    "    jobs_df.select(\"job_title\") \\\n",
    "                    .distinct() \\\n",
    "                    .sort(\"job_title\") \\\n",
    "                    .rdd.flatMap(lambda x: x) \\ #Converts Row objects to plain values.\n",
    "                    .collect() #Convert to list\n",
    ")"
   ]
  },
  {
   "cell_type": "markdown",
   "metadata": {
    "application/vnd.databricks.v1+cell": {
     "cellMetadata": {
      "byteLimit": 2048000,
      "rowLimit": 10000
     },
     "inputWidgets": {},
     "nuid": "eeecaf84-b1bb-43fc-b4ac-fe5c0316b5a3",
     "showTitle": false,
     "tableResultSettingsMap": {},
     "title": ""
    }
   },
   "source": [
    "There is no issues with this column and we don't have any duplicate category."
   ]
  },
  {
   "cell_type": "markdown",
   "metadata": {
    "application/vnd.databricks.v1+cell": {
     "cellMetadata": {
      "byteLimit": 2048000,
      "rowLimit": 10000
     },
     "inputWidgets": {},
     "nuid": "5c52266c-0b88-4e51-85a2-89efdbf79be4",
     "showTitle": false,
     "tableResultSettingsMap": {},
     "title": ""
    }
   },
   "source": [
    "#### 3.2.2 `job_type`"
   ]
  },
  {
   "cell_type": "markdown",
   "metadata": {
    "application/vnd.databricks.v1+cell": {
     "cellMetadata": {
      "byteLimit": 2048000,
      "rowLimit": 10000
     },
     "inputWidgets": {},
     "nuid": "562ec6f0-4c36-4cad-a173-e43a1fe78e09",
     "showTitle": false,
     "tableResultSettingsMap": {},
     "title": ""
    }
   },
   "source": [
    "Now, we do the same for this column:"
   ]
  },
  {
   "cell_type": "code",
   "execution_count": 0,
   "metadata": {
    "application/vnd.databricks.v1+cell": {
     "cellMetadata": {
      "byteLimit": 2048000,
      "rowLimit": 10000
     },
     "inputWidgets": {},
     "nuid": "73fd7ee8-cca8-4822-9778-fcb2b47d85a1",
     "showTitle": false,
     "tableResultSettingsMap": {},
     "title": ""
    }
   },
   "outputs": [
    {
     "output_type": "stream",
     "name": "stdout",
     "output_type": "stream",
     "text": [
      "['Contract', 'F/T', 'FT', 'Full Time', 'Internship', 'Part-Time']\n"
     ]
    }
   ],
   "source": [
    "print(\n",
    "    jobs_df.select(\"job_type\") \\\n",
    "                    .distinct() \\\n",
    "                    .sort(\"job_type\") \\\n",
    "                    .rdd.flatMap(lambda x: x) \\\n",
    "                    .collect() \n",
    ")"
   ]
  },
  {
   "cell_type": "markdown",
   "metadata": {
    "application/vnd.databricks.v1+cell": {
     "cellMetadata": {
      "byteLimit": 2048000,
      "rowLimit": 10000
     },
     "inputWidgets": {},
     "nuid": "1ef1aee2-1f7e-477b-8ace-7ad35c7f2057",
     "showTitle": false,
     "tableResultSettingsMap": {},
     "title": ""
    }
   },
   "source": [
    "It shows we need to marge some categories to have final categories like the below:\n",
    "- Contract\n",
    "- Full Time\n",
    "- Part Time\n",
    "- Internship"
   ]
  },
  {
   "cell_type": "code",
   "execution_count": 0,
   "metadata": {
    "application/vnd.databricks.v1+cell": {
     "cellMetadata": {
      "byteLimit": 2048000,
      "rowLimit": 10000
     },
     "inputWidgets": {},
     "nuid": "c37cd48b-e75b-4998-89b2-a599f1740bff",
     "showTitle": false,
     "tableResultSettingsMap": {},
     "title": ""
    }
   },
   "outputs": [],
   "source": [
    "jobs_df = jobs_df.withColumn(\n",
    "    \"job_type\",\n",
    "    when(col(\"job_type\").isin(\"F/T\", \"FT\"), \"Full Time\")\n",
    "    .when(col(\"job_type\").isin(\"Part-Time\"), \"Part Time\")\n",
    "    .otherwise(col(\"job_type\"))\n",
    ")"
   ]
  },
  {
   "cell_type": "markdown",
   "metadata": {
    "application/vnd.databricks.v1+cell": {
     "cellMetadata": {
      "byteLimit": 2048000,
      "rowLimit": 10000
     },
     "inputWidgets": {},
     "nuid": "df4c9a90-3640-4d16-8c9f-dfa4b63b26f6",
     "showTitle": false,
     "tableResultSettingsMap": {},
     "title": ""
    }
   },
   "source": [
    "#### 3.2.3 `city_location`"
   ]
  },
  {
   "cell_type": "markdown",
   "metadata": {
    "application/vnd.databricks.v1+cell": {
     "cellMetadata": {
      "byteLimit": 2048000,
      "rowLimit": 10000
     },
     "inputWidgets": {},
     "nuid": "e33a5d00-24c8-4d66-bbd3-d1ad81669048",
     "showTitle": false,
     "tableResultSettingsMap": {},
     "title": ""
    }
   },
   "source": [
    "We should see unique values to make sure about consistency:"
   ]
  },
  {
   "cell_type": "code",
   "execution_count": 0,
   "metadata": {
    "application/vnd.databricks.v1+cell": {
     "cellMetadata": {
      "byteLimit": 2048000,
      "rowLimit": 10000
     },
     "inputWidgets": {},
     "nuid": "8f03fd46-7aac-4bf7-8b16-1b162d103c10",
     "showTitle": false,
     "tableResultSettingsMap": {},
     "title": ""
    }
   },
   "outputs": [
    {
     "output_type": "stream",
     "name": "stdout",
     "output_type": "stream",
     "text": [
      "['Calgary, AB', 'Edmonton, AB', 'Montreal, QC', 'Ottawa, ON', 'Remote', 'Toronto, ON', 'Vancouver, BC']\n"
     ]
    }
   ],
   "source": [
    "print(\n",
    "    jobs_df.select(\"city_location\") \\\n",
    "                    .distinct() \\\n",
    "                    .sort(\"city_location\") \\\n",
    "                    .rdd.flatMap(lambda x: x) \\\n",
    "                    .collect()\n",
    ")"
   ]
  },
  {
   "cell_type": "markdown",
   "metadata": {
    "application/vnd.databricks.v1+cell": {
     "cellMetadata": {
      "byteLimit": 2048000,
      "rowLimit": 10000
     },
     "inputWidgets": {},
     "nuid": "81fac140-ce93-40ff-9b30-2956f6dfbde7",
     "showTitle": false,
     "tableResultSettingsMap": {},
     "title": ""
    }
   },
   "source": [
    "Now, we should separate city and province and instead of one column, we can define two columns. city and province."
   ]
  },
  {
   "cell_type": "code",
   "execution_count": 0,
   "metadata": {
    "application/vnd.databricks.v1+cell": {
     "cellMetadata": {
      "byteLimit": 2048000,
      "rowLimit": 10000
     },
     "inputWidgets": {},
     "nuid": "c15307ac-6f78-4bd3-a4ea-19f6f5b1d7c8",
     "showTitle": false,
     "tableResultSettingsMap": {},
     "title": ""
    }
   },
   "outputs": [],
   "source": [
    "jobs_df = jobs_df.withColumn(\"city\", split(col(\"city_location\"), \", \")[0]) \\\n",
    "                 .withColumn(\"province\", split(col(\"city_location\"), \", \")[1])\n",
    "\n",
    "jobs_df = jobs_df.drop(\"city_location\")"
   ]
  },
  {
   "cell_type": "markdown",
   "metadata": {
    "application/vnd.databricks.v1+cell": {
     "cellMetadata": {
      "byteLimit": 2048000,
      "rowLimit": 10000
     },
     "inputWidgets": {},
     "nuid": "e5307bc9-d462-4538-9417-43c279b345a2",
     "showTitle": false,
     "tableResultSettingsMap": {},
     "title": ""
    }
   },
   "source": [
    "Now, we can fill missing values of province for remote location"
   ]
  },
  {
   "cell_type": "code",
   "execution_count": 0,
   "metadata": {
    "application/vnd.databricks.v1+cell": {
     "cellMetadata": {
      "byteLimit": 2048000,
      "rowLimit": 10000
     },
     "inputWidgets": {},
     "nuid": "66813887-1500-44f4-93d6-926fb86a3ebe",
     "showTitle": false,
     "tableResultSettingsMap": {},
     "title": ""
    }
   },
   "outputs": [],
   "source": [
    "jobs_df = jobs_df.fillna({\"province\": \"Remote\"})"
   ]
  },
  {
   "cell_type": "markdown",
   "metadata": {
    "application/vnd.databricks.v1+cell": {
     "cellMetadata": {
      "byteLimit": 2048000,
      "rowLimit": 10000
     },
     "inputWidgets": {},
     "nuid": "1e9cc81a-2b80-44df-b561-9a82983a49cd",
     "showTitle": false,
     "tableResultSettingsMap": {},
     "title": ""
    }
   },
   "source": [
    "### 3.3. Handle Date Format Data"
   ]
  },
  {
   "cell_type": "markdown",
   "metadata": {
    "application/vnd.databricks.v1+cell": {
     "cellMetadata": {
      "byteLimit": 2048000,
      "rowLimit": 10000
     },
     "inputWidgets": {},
     "nuid": "edd61032-f363-4041-a34e-50eb52b246a9",
     "showTitle": false,
     "tableResultSettingsMap": {},
     "title": ""
    }
   },
   "source": [
    "In this table, we have one date format data as the following:\n",
    "- `post_date`\n",
    "\n",
    "For this column, we should make sure data is in date format and then we can segregate it to Year, Month and Day."
   ]
  },
  {
   "cell_type": "code",
   "execution_count": 0,
   "metadata": {
    "application/vnd.databricks.v1+cell": {
     "cellMetadata": {
      "byteLimit": 2048000,
      "rowLimit": 10000
     },
     "inputWidgets": {},
     "nuid": "5d3d9ae3-1cac-4d3c-ad2b-f766bc4bb814",
     "showTitle": false,
     "tableResultSettingsMap": {},
     "title": ""
    }
   },
   "outputs": [],
   "source": [
    "jobs_df = jobs_df.withColumn(\n",
    "    \"date_posting\",\n",
    "    coalesce(\n",
    "        to_date(col(\"post_date\"), \"dd-MM-yyyy\"),\n",
    "        to_date(col(\"post_date\"), \"MM-dd-yyyy\"),\n",
    "        to_date(col(\"post_date\"), \"yyyy/MM/dd\"),\n",
    "        to_date(col(\"post_date\"), \"MMM dd yyyy\")\n",
    "    )\n",
    ")\n",
    "\n",
    "jobs_df = jobs_df.drop(\"post_date\")"
   ]
  },
  {
   "cell_type": "markdown",
   "metadata": {
    "application/vnd.databricks.v1+cell": {
     "cellMetadata": {
      "byteLimit": 2048000,
      "rowLimit": 10000
     },
     "inputWidgets": {},
     "nuid": "450c34a5-4539-4a4c-9f00-ca20f08002b3",
     "showTitle": false,
     "tableResultSettingsMap": {},
     "title": ""
    }
   },
   "source": [
    "Now, we can split it to Year, month and day."
   ]
  },
  {
   "cell_type": "code",
   "execution_count": 0,
   "metadata": {
    "application/vnd.databricks.v1+cell": {
     "cellMetadata": {
      "byteLimit": 2048000,
      "rowLimit": 10000
     },
     "inputWidgets": {},
     "nuid": "5234196c-28d2-456a-a351-e38f262aa781",
     "showTitle": false,
     "tableResultSettingsMap": {},
     "title": ""
    }
   },
   "outputs": [],
   "source": [
    "jobs_df = jobs_df.withColumn(\"year_post\", year(col(\"date_posting\"))) \\\n",
    "                 .withColumn(\"month_post\", month(col(\"date_posting\"))) \\\n",
    "                 .withColumn(\"day_post\", dayofmonth(col(\"date_posting\")))\n",
    "\n",
    "jobs_df = jobs_df.drop(\"date_posting\")                 "
   ]
  },
  {
   "cell_type": "markdown",
   "metadata": {
    "application/vnd.databricks.v1+cell": {
     "cellMetadata": {
      "byteLimit": 2048000,
      "rowLimit": 10000
     },
     "inputWidgets": {},
     "nuid": "78638b3e-acd9-4515-a3c1-c838e069f727",
     "showTitle": false,
     "tableResultSettingsMap": {},
     "title": ""
    }
   },
   "source": [
    "## 4. Data Cleaning Companies"
   ]
  },
  {
   "cell_type": "markdown",
   "metadata": {
    "application/vnd.databricks.v1+cell": {
     "cellMetadata": {
      "byteLimit": 2048000,
      "rowLimit": 10000
     },
     "inputWidgets": {},
     "nuid": "38ea3e98-bed5-45f9-8460-75762812a2b9",
     "showTitle": false,
     "tableResultSettingsMap": {},
     "title": ""
    }
   },
   "source": [
    "### 4.1. Handle Null Values"
   ]
  },
  {
   "cell_type": "markdown",
   "metadata": {
    "application/vnd.databricks.v1+cell": {
     "cellMetadata": {
      "byteLimit": 2048000,
      "rowLimit": 10000
     },
     "inputWidgets": {},
     "nuid": "2c3fc05c-348c-4b65-a033-07cb50e8b4c9",
     "showTitle": false,
     "tableResultSettingsMap": {},
     "title": ""
    }
   },
   "source": [
    "Let's first see top 3 rows of data:"
   ]
  },
  {
   "cell_type": "code",
   "execution_count": 0,
   "metadata": {
    "application/vnd.databricks.v1+cell": {
     "cellMetadata": {
      "byteLimit": 2048000,
      "rowLimit": 10000
     },
     "inputWidgets": {},
     "nuid": "1d042555-cc6a-4477-9010-3c148b0f406f",
     "showTitle": false,
     "tableResultSettingsMap": {},
     "title": ""
    }
   },
   "outputs": [
    {
     "output_type": "display_data",
     "data": {
      "text/plain": [
       "\u001B[0;31m---------------------------------------------------------------------------\u001B[0m\n",
       "\u001B[0;31mNameError\u001B[0m                                 Traceback (most recent call last)\n",
       "File \u001B[0;32m<command-1527829509962863>:1\u001B[0m\n",
       "\u001B[0;32m----> 1\u001B[0m \u001B[43mCompanies_df\u001B[49m\u001B[38;5;241m.\u001B[39mlimit(\u001B[38;5;241m3\u001B[39m)\u001B[38;5;241m.\u001B[39mdisplay()\n",
       "\n",
       "\u001B[0;31mNameError\u001B[0m: name 'Companies_df' is not defined"
      ]
     },
     "metadata": {
      "application/vnd.databricks.v1+output": {
       "arguments": {},
       "data": "\u001B[0;31m---------------------------------------------------------------------------\u001B[0m\n\u001B[0;31mNameError\u001B[0m                                 Traceback (most recent call last)\nFile \u001B[0;32m<command-1527829509962863>:1\u001B[0m\n\u001B[0;32m----> 1\u001B[0m \u001B[43mCompanies_df\u001B[49m\u001B[38;5;241m.\u001B[39mlimit(\u001B[38;5;241m3\u001B[39m)\u001B[38;5;241m.\u001B[39mdisplay()\n\n\u001B[0;31mNameError\u001B[0m: name 'Companies_df' is not defined",
       "errorSummary": "<span class='ansi-red-fg'>NameError</span>: name 'Companies_df' is not defined",
       "errorTraceType": "ansi",
       "metadata": {},
       "type": "ipynbError"
      }
     },
     "output_type": "display_data"
    }
   ],
   "source": [
    "Companies_df.limit(3).display()"
   ]
  },
  {
   "cell_type": "markdown",
   "metadata": {
    "application/vnd.databricks.v1+cell": {
     "cellMetadata": {
      "byteLimit": 2048000,
      "rowLimit": 10000
     },
     "inputWidgets": {},
     "nuid": "89da87cf-d26c-4697-a4f5-d92d10f08737",
     "showTitle": false,
     "tableResultSettingsMap": {},
     "title": ""
    }
   },
   "source": [
    "First of all, we can see each column has how many null values:"
   ]
  },
  {
   "cell_type": "code",
   "execution_count": 0,
   "metadata": {
    "application/vnd.databricks.v1+cell": {
     "cellMetadata": {
      "byteLimit": 2048000,
      "rowLimit": 10000
     },
     "inputWidgets": {},
     "nuid": "58d0de48-c3f7-4798-845b-b876f5d67aca",
     "showTitle": false,
     "tableResultSettingsMap": {},
     "title": ""
    }
   },
   "outputs": [
    {
     "output_type": "display_data",
     "data": {
      "text/plain": [
       "\u001B[0;31m---------------------------------------------------------------------------\u001B[0m\n",
       "\u001B[0;31mNameError\u001B[0m                                 Traceback (most recent call last)\n",
       "File \u001B[0;32m<command-1362181281344466>:1\u001B[0m\n",
       "\u001B[0;32m----> 1\u001B[0m \u001B[38;5;28;01mfor\u001B[39;00m COL_NAME \u001B[38;5;129;01min\u001B[39;00m \u001B[43mCompanies_df\u001B[49m\u001B[38;5;241m.\u001B[39mcolumns:\n",
       "\u001B[1;32m      2\u001B[0m     null_count \u001B[38;5;241m=\u001B[39m Companies_df\u001B[38;5;241m.\u001B[39mfilter(col(COL_NAME)\u001B[38;5;241m.\u001B[39misNull())\u001B[38;5;241m.\u001B[39mcount()\n",
       "\u001B[1;32m      3\u001B[0m     \u001B[38;5;28mprint\u001B[39m(\u001B[38;5;124mf\u001B[39m\u001B[38;5;124m\"\u001B[39m\u001B[38;5;124m \u001B[39m\u001B[38;5;124m'\u001B[39m\u001B[38;5;132;01m{\u001B[39;00mCOL_NAME\u001B[38;5;132;01m}\u001B[39;00m\u001B[38;5;124m'\u001B[39m\u001B[38;5;124m has: \u001B[39m\u001B[38;5;132;01m{\u001B[39;00mnull_count\u001B[38;5;132;01m}\u001B[39;00m\u001B[38;5;124m null value\u001B[39m\u001B[38;5;124m\"\u001B[39m)\n",
       "\n",
       "\u001B[0;31mNameError\u001B[0m: name 'Companies_df' is not defined"
      ]
     },
     "metadata": {
      "application/vnd.databricks.v1+output": {
       "arguments": {},
       "data": "\u001B[0;31m---------------------------------------------------------------------------\u001B[0m\n\u001B[0;31mNameError\u001B[0m                                 Traceback (most recent call last)\nFile \u001B[0;32m<command-1362181281344466>:1\u001B[0m\n\u001B[0;32m----> 1\u001B[0m \u001B[38;5;28;01mfor\u001B[39;00m COL_NAME \u001B[38;5;129;01min\u001B[39;00m \u001B[43mCompanies_df\u001B[49m\u001B[38;5;241m.\u001B[39mcolumns:\n\u001B[1;32m      2\u001B[0m     null_count \u001B[38;5;241m=\u001B[39m Companies_df\u001B[38;5;241m.\u001B[39mfilter(col(COL_NAME)\u001B[38;5;241m.\u001B[39misNull())\u001B[38;5;241m.\u001B[39mcount()\n\u001B[1;32m      3\u001B[0m     \u001B[38;5;28mprint\u001B[39m(\u001B[38;5;124mf\u001B[39m\u001B[38;5;124m\"\u001B[39m\u001B[38;5;124m \u001B[39m\u001B[38;5;124m'\u001B[39m\u001B[38;5;132;01m{\u001B[39;00mCOL_NAME\u001B[38;5;132;01m}\u001B[39;00m\u001B[38;5;124m'\u001B[39m\u001B[38;5;124m has: \u001B[39m\u001B[38;5;132;01m{\u001B[39;00mnull_count\u001B[38;5;132;01m}\u001B[39;00m\u001B[38;5;124m null value\u001B[39m\u001B[38;5;124m\"\u001B[39m)\n\n\u001B[0;31mNameError\u001B[0m: name 'Companies_df' is not defined",
       "errorSummary": "<span class='ansi-red-fg'>NameError</span>: name 'Companies_df' is not defined",
       "errorTraceType": "ansi",
       "metadata": {},
       "type": "ipynbError"
      }
     },
     "output_type": "display_data"
    }
   ],
   "source": [
    "for COL_NAME in Companies_df.columns:\n",
    "    null_count = Companies_df.filter(col(COL_NAME).isNull()).count()\n",
    "    print(f\" '{COL_NAME}' has: {null_count} null value\")"
   ]
  },
  {
   "cell_type": "markdown",
   "metadata": {
    "application/vnd.databricks.v1+cell": {
     "cellMetadata": {
      "byteLimit": 2048000,
      "rowLimit": 10000
     },
     "inputWidgets": {},
     "nuid": "bd4286a6-d816-4827-8494-f6a412258f6a",
     "showTitle": false,
     "tableResultSettingsMap": {},
     "title": ""
    }
   },
   "source": [
    "We should take a look at `founded` column to deal with null values."
   ]
  },
  {
   "cell_type": "code",
   "execution_count": 0,
   "metadata": {
    "application/vnd.databricks.v1+cell": {
     "cellMetadata": {
      "byteLimit": 2048000,
      "rowLimit": 10000
     },
     "inputWidgets": {},
     "nuid": "5d6c8692-3b94-4f86-8795-a0663fcd2004",
     "showTitle": false,
     "tableResultSettingsMap": {},
     "title": ""
    }
   },
   "outputs": [
    {
     "output_type": "display_data",
     "data": {
      "text/plain": [
       "\u001B[0;31m---------------------------------------------------------------------------\u001B[0m\n",
       "\u001B[0;31mNameError\u001B[0m                                 Traceback (most recent call last)\n",
       "File \u001B[0;32m<command-1362181281344465>:1\u001B[0m\n",
       "\u001B[0;32m----> 1\u001B[0m \u001B[38;5;28mprint\u001B[39m(\u001B[38;5;124m\"\u001B[39m\u001B[38;5;124mNumber of total rows:\u001B[39m\u001B[38;5;124m\"\u001B[39m, Companies_df\u001B[38;5;241m.\u001B[39mselect(\u001B[38;5;124m'\u001B[39m\u001B[38;5;124mfounded\u001B[39m\u001B[38;5;124m'\u001B[39m)\u001B[38;5;241m.\u001B[39mcount())\n",
       "\u001B[1;32m      2\u001B[0m \u001B[38;5;28mprint\u001B[39m(\u001B[38;5;124m\"\u001B[39m\u001B[38;5;124mNumber of null rows in \u001B[39m\u001B[38;5;124m'\u001B[39m\u001B[38;5;124mfounded\u001B[39m\u001B[38;5;124m'\u001B[39m\u001B[38;5;124m:\u001B[39m\u001B[38;5;124m\"\u001B[39m, Companies_df\u001B[38;5;241m.\u001B[39mfilter(Companies_df[\u001B[38;5;124m'\u001B[39m\u001B[38;5;124mfounded\u001B[39m\u001B[38;5;124m'\u001B[39m]\u001B[38;5;241m.\u001B[39misNull())\u001B[38;5;241m.\u001B[39mcount())\n",
       "\n",
       "\u001B[0;31mNameError\u001B[0m: name 'Companies_df' is not defined"
      ]
     },
     "metadata": {
      "application/vnd.databricks.v1+output": {
       "arguments": {},
       "data": "\u001B[0;31m---------------------------------------------------------------------------\u001B[0m\n\u001B[0;31mNameError\u001B[0m                                 Traceback (most recent call last)\nFile \u001B[0;32m<command-1362181281344465>:1\u001B[0m\n\u001B[0;32m----> 1\u001B[0m \u001B[38;5;28mprint\u001B[39m(\u001B[38;5;124m\"\u001B[39m\u001B[38;5;124mNumber of total rows:\u001B[39m\u001B[38;5;124m\"\u001B[39m, Companies_df\u001B[38;5;241m.\u001B[39mselect(\u001B[38;5;124m'\u001B[39m\u001B[38;5;124mfounded\u001B[39m\u001B[38;5;124m'\u001B[39m)\u001B[38;5;241m.\u001B[39mcount())\n\u001B[1;32m      2\u001B[0m \u001B[38;5;28mprint\u001B[39m(\u001B[38;5;124m\"\u001B[39m\u001B[38;5;124mNumber of null rows in \u001B[39m\u001B[38;5;124m'\u001B[39m\u001B[38;5;124mfounded\u001B[39m\u001B[38;5;124m'\u001B[39m\u001B[38;5;124m:\u001B[39m\u001B[38;5;124m\"\u001B[39m, Companies_df\u001B[38;5;241m.\u001B[39mfilter(Companies_df[\u001B[38;5;124m'\u001B[39m\u001B[38;5;124mfounded\u001B[39m\u001B[38;5;124m'\u001B[39m]\u001B[38;5;241m.\u001B[39misNull())\u001B[38;5;241m.\u001B[39mcount())\n\n\u001B[0;31mNameError\u001B[0m: name 'Companies_df' is not defined",
       "errorSummary": "<span class='ansi-red-fg'>NameError</span>: name 'Companies_df' is not defined",
       "errorTraceType": "ansi",
       "metadata": {},
       "type": "ipynbError"
      }
     },
     "output_type": "display_data"
    }
   ],
   "source": [
    "print(\"Number of total rows:\", Companies_df.select('founded').count())\n",
    "print(\"Number of null rows in 'founded':\", Companies_df.filter(Companies_df['founded'].isNull()).count())"
   ]
  },
  {
   "cell_type": "markdown",
   "metadata": {
    "application/vnd.databricks.v1+cell": {
     "cellMetadata": {
      "byteLimit": 2048000,
      "rowLimit": 10000
     },
     "inputWidgets": {},
     "nuid": "c2f28f49-63cb-4e37-a9c7-d10b050b11a6",
     "showTitle": false,
     "tableResultSettingsMap": {},
     "title": ""
    }
   },
   "source": [
    "In this case, we can remove the whole column because it does not have any value for analysis."
   ]
  },
  {
   "cell_type": "code",
   "execution_count": 0,
   "metadata": {
    "application/vnd.databricks.v1+cell": {
     "cellMetadata": {
      "byteLimit": 2048000,
      "rowLimit": 10000
     },
     "inputWidgets": {},
     "nuid": "29d45af3-8ae5-41f7-a815-3064e4ca623d",
     "showTitle": false,
     "tableResultSettingsMap": {},
     "title": ""
    }
   },
   "outputs": [
    {
     "output_type": "display_data",
     "data": {
      "text/plain": [
       "\u001B[0;31m---------------------------------------------------------------------------\u001B[0m\n",
       "\u001B[0;31mNameError\u001B[0m                                 Traceback (most recent call last)\n",
       "File \u001B[0;32m<command-1362181281344487>:1\u001B[0m\n",
       "\u001B[0;32m----> 1\u001B[0m Companies_df \u001B[38;5;241m=\u001B[39m \u001B[43mCompanies_df\u001B[49m\u001B[38;5;241m.\u001B[39mdrop(\u001B[38;5;124m'\u001B[39m\u001B[38;5;124mfounded\u001B[39m\u001B[38;5;124m'\u001B[39m)\n",
       "\n",
       "\u001B[0;31mNameError\u001B[0m: name 'Companies_df' is not defined"
      ]
     },
     "metadata": {
      "application/vnd.databricks.v1+output": {
       "arguments": {},
       "data": "\u001B[0;31m---------------------------------------------------------------------------\u001B[0m\n\u001B[0;31mNameError\u001B[0m                                 Traceback (most recent call last)\nFile \u001B[0;32m<command-1362181281344487>:1\u001B[0m\n\u001B[0;32m----> 1\u001B[0m Companies_df \u001B[38;5;241m=\u001B[39m \u001B[43mCompanies_df\u001B[49m\u001B[38;5;241m.\u001B[39mdrop(\u001B[38;5;124m'\u001B[39m\u001B[38;5;124mfounded\u001B[39m\u001B[38;5;124m'\u001B[39m)\n\n\u001B[0;31mNameError\u001B[0m: name 'Companies_df' is not defined",
       "errorSummary": "<span class='ansi-red-fg'>NameError</span>: name 'Companies_df' is not defined",
       "errorTraceType": "ansi",
       "metadata": {},
       "type": "ipynbError"
      }
     },
     "output_type": "display_data"
    }
   ],
   "source": [
    "Companies_df = Companies_df.drop('founded')"
   ]
  },
  {
   "cell_type": "markdown",
   "metadata": {
    "application/vnd.databricks.v1+cell": {
     "cellMetadata": {
      "byteLimit": 2048000,
      "rowLimit": 10000
     },
     "inputWidgets": {},
     "nuid": "6ece4f0d-c73f-47b3-ac70-f5b4c80a085e",
     "showTitle": false,
     "tableResultSettingsMap": {},
     "title": ""
    }
   },
   "source": [
    "### 4.2. Handle Categorical Data"
   ]
  },
  {
   "cell_type": "markdown",
   "metadata": {
    "application/vnd.databricks.v1+cell": {
     "cellMetadata": {
      "byteLimit": 2048000,
      "rowLimit": 10000
     },
     "inputWidgets": {},
     "nuid": "4e4beb37-3fa3-401a-af19-aa43f9fe4df6",
     "showTitle": false,
     "tableResultSettingsMap": {},
     "title": ""
    }
   },
   "source": [
    "In this table, we have some categorical data as the following:\n",
    "- `company_name`\n",
    "- `industry`\n",
    "- `headquarters`\n",
    "\n",
    "for these columns, I'll check the unique values to make sure about consistency and reliability."
   ]
  },
  {
   "cell_type": "markdown",
   "metadata": {
    "application/vnd.databricks.v1+cell": {
     "cellMetadata": {
      "byteLimit": 2048000,
      "rowLimit": 10000
     },
     "inputWidgets": {},
     "nuid": "133bd358-8b96-40df-b099-3e188d8df44e",
     "showTitle": false,
     "tableResultSettingsMap": {},
     "title": ""
    }
   },
   "source": [
    "#### 4.2.1 `company_name`"
   ]
  },
  {
   "cell_type": "markdown",
   "metadata": {
    "application/vnd.databricks.v1+cell": {
     "cellMetadata": {
      "byteLimit": 2048000,
      "rowLimit": 10000
     },
     "inputWidgets": {},
     "nuid": "d4735c9f-1eea-4717-8121-aa58f4851e53",
     "showTitle": false,
     "tableResultSettingsMap": {},
     "title": ""
    }
   },
   "source": [
    "First, let's take a look at unique categories."
   ]
  },
  {
   "cell_type": "code",
   "execution_count": 0,
   "metadata": {
    "application/vnd.databricks.v1+cell": {
     "cellMetadata": {
      "byteLimit": 2048000,
      "rowLimit": 10000
     },
     "inputWidgets": {},
     "nuid": "4d210c86-d45a-47d7-9779-ba700aae68ab",
     "showTitle": false,
     "tableResultSettingsMap": {},
     "title": ""
    }
   },
   "outputs": [
    {
     "output_type": "display_data",
     "data": {
      "text/plain": [
       "\u001B[0;31m---------------------------------------------------------------------------\u001B[0m\n",
       "\u001B[0;31mNameError\u001B[0m                                 Traceback (most recent call last)\n",
       "File \u001B[0;32m<command-1164924135469586>:2\u001B[0m\n",
       "\u001B[1;32m      1\u001B[0m \u001B[38;5;28mprint\u001B[39m(\n",
       "\u001B[0;32m----> 2\u001B[0m     \u001B[43mCompanies_df\u001B[49m\u001B[38;5;241m.\u001B[39mselect(\u001B[38;5;124m\"\u001B[39m\u001B[38;5;124mcompany_name\u001B[39m\u001B[38;5;124m\"\u001B[39m) \\\n",
       "\u001B[1;32m      3\u001B[0m                     \u001B[38;5;241m.\u001B[39mdistinct() \\\n",
       "\u001B[1;32m      4\u001B[0m                     \u001B[38;5;241m.\u001B[39msort(\u001B[38;5;124m\"\u001B[39m\u001B[38;5;124mcompany_name\u001B[39m\u001B[38;5;124m\"\u001B[39m) \\\n",
       "\u001B[1;32m      5\u001B[0m                     \u001B[38;5;241m.\u001B[39mrdd\u001B[38;5;241m.\u001B[39mflatMap(\u001B[38;5;28;01mlambda\u001B[39;00m x: x) \\\n",
       "\u001B[1;32m      6\u001B[0m                     \u001B[38;5;241m.\u001B[39mcollect() \n",
       "\u001B[1;32m      7\u001B[0m )\n",
       "\n",
       "\u001B[0;31mNameError\u001B[0m: name 'Companies_df' is not defined"
      ]
     },
     "metadata": {
      "application/vnd.databricks.v1+output": {
       "arguments": {},
       "data": "\u001B[0;31m---------------------------------------------------------------------------\u001B[0m\n\u001B[0;31mNameError\u001B[0m                                 Traceback (most recent call last)\nFile \u001B[0;32m<command-1164924135469586>:2\u001B[0m\n\u001B[1;32m      1\u001B[0m \u001B[38;5;28mprint\u001B[39m(\n\u001B[0;32m----> 2\u001B[0m     \u001B[43mCompanies_df\u001B[49m\u001B[38;5;241m.\u001B[39mselect(\u001B[38;5;124m\"\u001B[39m\u001B[38;5;124mcompany_name\u001B[39m\u001B[38;5;124m\"\u001B[39m) \\\n\u001B[1;32m      3\u001B[0m                     \u001B[38;5;241m.\u001B[39mdistinct() \\\n\u001B[1;32m      4\u001B[0m                     \u001B[38;5;241m.\u001B[39msort(\u001B[38;5;124m\"\u001B[39m\u001B[38;5;124mcompany_name\u001B[39m\u001B[38;5;124m\"\u001B[39m) \\\n\u001B[1;32m      5\u001B[0m                     \u001B[38;5;241m.\u001B[39mrdd\u001B[38;5;241m.\u001B[39mflatMap(\u001B[38;5;28;01mlambda\u001B[39;00m x: x) \\\n\u001B[1;32m      6\u001B[0m                     \u001B[38;5;241m.\u001B[39mcollect() \n\u001B[1;32m      7\u001B[0m )\n\n\u001B[0;31mNameError\u001B[0m: name 'Companies_df' is not defined",
       "errorSummary": "<span class='ansi-red-fg'>NameError</span>: name 'Companies_df' is not defined",
       "errorTraceType": "ansi",
       "metadata": {},
       "type": "ipynbError"
      }
     },
     "output_type": "display_data"
    }
   ],
   "source": [
    "print(\n",
    "    Companies_df.select(\"company_name\") \\\n",
    "                    .distinct() \\\n",
    "                    .sort(\"company_name\") \\\n",
    "                    .rdd.flatMap(lambda x: x) \\\n",
    "                    .collect() \n",
    ")"
   ]
  },
  {
   "cell_type": "markdown",
   "metadata": {
    "application/vnd.databricks.v1+cell": {
     "cellMetadata": {
      "byteLimit": 2048000,
      "rowLimit": 10000
     },
     "inputWidgets": {},
     "nuid": "27c30476-fa1f-46b8-be27-4dd0232fc694",
     "showTitle": false,
     "tableResultSettingsMap": {},
     "title": ""
    }
   },
   "source": [
    "It does not have any duplicate values."
   ]
  },
  {
   "cell_type": "markdown",
   "metadata": {
    "application/vnd.databricks.v1+cell": {
     "cellMetadata": {
      "byteLimit": 2048000,
      "rowLimit": 10000
     },
     "inputWidgets": {},
     "nuid": "6226e793-f935-4628-addb-6028d70961bb",
     "showTitle": false,
     "tableResultSettingsMap": {},
     "title": ""
    }
   },
   "source": [
    "#### 4.2.2 `industry`"
   ]
  },
  {
   "cell_type": "markdown",
   "metadata": {
    "application/vnd.databricks.v1+cell": {
     "cellMetadata": {
      "byteLimit": 2048000,
      "rowLimit": 10000
     },
     "inputWidgets": {},
     "nuid": "761fd256-a729-48c6-a059-80f87c25ca07",
     "showTitle": false,
     "tableResultSettingsMap": {},
     "title": ""
    }
   },
   "source": [
    "Now, let's see this column unique categories:"
   ]
  },
  {
   "cell_type": "code",
   "execution_count": 0,
   "metadata": {
    "application/vnd.databricks.v1+cell": {
     "cellMetadata": {
      "byteLimit": 2048000,
      "rowLimit": 10000
     },
     "inputWidgets": {},
     "nuid": "c02716e7-0552-4ae6-98bc-911d88854329",
     "showTitle": false,
     "tableResultSettingsMap": {},
     "title": ""
    }
   },
   "outputs": [
    {
     "output_type": "display_data",
     "data": {
      "text/plain": [
       "\u001B[0;31m---------------------------------------------------------------------------\u001B[0m\n",
       "\u001B[0;31mNameError\u001B[0m                                 Traceback (most recent call last)\n",
       "File \u001B[0;32m<command-1164924135469592>:2\u001B[0m\n",
       "\u001B[1;32m      1\u001B[0m \u001B[38;5;28mprint\u001B[39m(\n",
       "\u001B[0;32m----> 2\u001B[0m     \u001B[43mCompanies_df\u001B[49m\u001B[38;5;241m.\u001B[39mselect(\u001B[38;5;124m\"\u001B[39m\u001B[38;5;124mindustry\u001B[39m\u001B[38;5;124m\"\u001B[39m) \\\n",
       "\u001B[1;32m      3\u001B[0m                     \u001B[38;5;241m.\u001B[39mdistinct() \\\n",
       "\u001B[1;32m      4\u001B[0m                     \u001B[38;5;241m.\u001B[39msort(\u001B[38;5;124m\"\u001B[39m\u001B[38;5;124mindustry\u001B[39m\u001B[38;5;124m\"\u001B[39m) \\\n",
       "\u001B[1;32m      5\u001B[0m                     \u001B[38;5;241m.\u001B[39mrdd\u001B[38;5;241m.\u001B[39mflatMap(\u001B[38;5;28;01mlambda\u001B[39;00m x: x) \\\n",
       "\u001B[1;32m      6\u001B[0m                     \u001B[38;5;241m.\u001B[39mcollect() \n",
       "\u001B[1;32m      7\u001B[0m )\n",
       "\n",
       "\u001B[0;31mNameError\u001B[0m: name 'Companies_df' is not defined"
      ]
     },
     "metadata": {
      "application/vnd.databricks.v1+output": {
       "arguments": {},
       "data": "\u001B[0;31m---------------------------------------------------------------------------\u001B[0m\n\u001B[0;31mNameError\u001B[0m                                 Traceback (most recent call last)\nFile \u001B[0;32m<command-1164924135469592>:2\u001B[0m\n\u001B[1;32m      1\u001B[0m \u001B[38;5;28mprint\u001B[39m(\n\u001B[0;32m----> 2\u001B[0m     \u001B[43mCompanies_df\u001B[49m\u001B[38;5;241m.\u001B[39mselect(\u001B[38;5;124m\"\u001B[39m\u001B[38;5;124mindustry\u001B[39m\u001B[38;5;124m\"\u001B[39m) \\\n\u001B[1;32m      3\u001B[0m                     \u001B[38;5;241m.\u001B[39mdistinct() \\\n\u001B[1;32m      4\u001B[0m                     \u001B[38;5;241m.\u001B[39msort(\u001B[38;5;124m\"\u001B[39m\u001B[38;5;124mindustry\u001B[39m\u001B[38;5;124m\"\u001B[39m) \\\n\u001B[1;32m      5\u001B[0m                     \u001B[38;5;241m.\u001B[39mrdd\u001B[38;5;241m.\u001B[39mflatMap(\u001B[38;5;28;01mlambda\u001B[39;00m x: x) \\\n\u001B[1;32m      6\u001B[0m                     \u001B[38;5;241m.\u001B[39mcollect() \n\u001B[1;32m      7\u001B[0m )\n\n\u001B[0;31mNameError\u001B[0m: name 'Companies_df' is not defined",
       "errorSummary": "<span class='ansi-red-fg'>NameError</span>: name 'Companies_df' is not defined",
       "errorTraceType": "ansi",
       "metadata": {},
       "type": "ipynbError"
      }
     },
     "output_type": "display_data"
    }
   ],
   "source": [
    "print(\n",
    "    Companies_df.select(\"industry\") \\\n",
    "                    .distinct() \\\n",
    "                    .sort(\"industry\") \\\n",
    "                    .rdd.flatMap(lambda x: x) \\\n",
    "                    .collect() \n",
    ")"
   ]
  },
  {
   "cell_type": "markdown",
   "metadata": {
    "application/vnd.databricks.v1+cell": {
     "cellMetadata": {
      "byteLimit": 2048000,
      "rowLimit": 10000
     },
     "inputWidgets": {},
     "nuid": "7a97419d-0d69-4fdb-b204-7a34244a11a4",
     "showTitle": false,
     "tableResultSettingsMap": {},
     "title": ""
    }
   },
   "source": [
    "There is  no issue, for this column."
   ]
  },
  {
   "cell_type": "markdown",
   "metadata": {
    "application/vnd.databricks.v1+cell": {
     "cellMetadata": {
      "byteLimit": 2048000,
      "rowLimit": 10000
     },
     "inputWidgets": {},
     "nuid": "f5c40d7c-4d77-41b7-9329-9a26365d33c7",
     "showTitle": false,
     "tableResultSettingsMap": {},
     "title": ""
    }
   },
   "source": [
    "#### 4.2.3 `headquarters`"
   ]
  },
  {
   "cell_type": "markdown",
   "metadata": {
    "application/vnd.databricks.v1+cell": {
     "cellMetadata": {
      "byteLimit": 2048000,
      "rowLimit": 10000
     },
     "inputWidgets": {},
     "nuid": "223f85f7-f6c7-45e2-a245-8060377befc3",
     "showTitle": false,
     "tableResultSettingsMap": {},
     "title": ""
    }
   },
   "source": [
    "And now this categorical column:"
   ]
  },
  {
   "cell_type": "code",
   "execution_count": 0,
   "metadata": {
    "application/vnd.databricks.v1+cell": {
     "cellMetadata": {
      "byteLimit": 2048000,
      "rowLimit": 10000
     },
     "inputWidgets": {},
     "nuid": "d03f625d-bc28-4c09-9cb9-85ebacd05ef7",
     "showTitle": false,
     "tableResultSettingsMap": {},
     "title": ""
    }
   },
   "outputs": [
    {
     "output_type": "display_data",
     "data": {
      "text/plain": [
       "\u001B[0;31m---------------------------------------------------------------------------\u001B[0m\n",
       "\u001B[0;31mNameError\u001B[0m                                 Traceback (most recent call last)\n",
       "File \u001B[0;32m<command-1164924135469597>:2\u001B[0m\n",
       "\u001B[1;32m      1\u001B[0m \u001B[38;5;28mprint\u001B[39m(\n",
       "\u001B[0;32m----> 2\u001B[0m     \u001B[43mCompanies_df\u001B[49m\u001B[38;5;241m.\u001B[39mselect(\u001B[38;5;124m\"\u001B[39m\u001B[38;5;124mheadquarters\u001B[39m\u001B[38;5;124m\"\u001B[39m) \\\n",
       "\u001B[1;32m      3\u001B[0m                     \u001B[38;5;241m.\u001B[39mdistinct() \\\n",
       "\u001B[1;32m      4\u001B[0m                     \u001B[38;5;241m.\u001B[39msort(\u001B[38;5;124m\"\u001B[39m\u001B[38;5;124mheadquarters\u001B[39m\u001B[38;5;124m\"\u001B[39m) \\\n",
       "\u001B[1;32m      5\u001B[0m                     \u001B[38;5;241m.\u001B[39mrdd\u001B[38;5;241m.\u001B[39mflatMap(\u001B[38;5;28;01mlambda\u001B[39;00m x: x) \\\n",
       "\u001B[1;32m      6\u001B[0m                     \u001B[38;5;241m.\u001B[39mcollect() \n",
       "\u001B[1;32m      7\u001B[0m )\n",
       "\n",
       "\u001B[0;31mNameError\u001B[0m: name 'Companies_df' is not defined"
      ]
     },
     "metadata": {
      "application/vnd.databricks.v1+output": {
       "arguments": {},
       "data": "\u001B[0;31m---------------------------------------------------------------------------\u001B[0m\n\u001B[0;31mNameError\u001B[0m                                 Traceback (most recent call last)\nFile \u001B[0;32m<command-1164924135469597>:2\u001B[0m\n\u001B[1;32m      1\u001B[0m \u001B[38;5;28mprint\u001B[39m(\n\u001B[0;32m----> 2\u001B[0m     \u001B[43mCompanies_df\u001B[49m\u001B[38;5;241m.\u001B[39mselect(\u001B[38;5;124m\"\u001B[39m\u001B[38;5;124mheadquarters\u001B[39m\u001B[38;5;124m\"\u001B[39m) \\\n\u001B[1;32m      3\u001B[0m                     \u001B[38;5;241m.\u001B[39mdistinct() \\\n\u001B[1;32m      4\u001B[0m                     \u001B[38;5;241m.\u001B[39msort(\u001B[38;5;124m\"\u001B[39m\u001B[38;5;124mheadquarters\u001B[39m\u001B[38;5;124m\"\u001B[39m) \\\n\u001B[1;32m      5\u001B[0m                     \u001B[38;5;241m.\u001B[39mrdd\u001B[38;5;241m.\u001B[39mflatMap(\u001B[38;5;28;01mlambda\u001B[39;00m x: x) \\\n\u001B[1;32m      6\u001B[0m                     \u001B[38;5;241m.\u001B[39mcollect() \n\u001B[1;32m      7\u001B[0m )\n\n\u001B[0;31mNameError\u001B[0m: name 'Companies_df' is not defined",
       "errorSummary": "<span class='ansi-red-fg'>NameError</span>: name 'Companies_df' is not defined",
       "errorTraceType": "ansi",
       "metadata": {},
       "type": "ipynbError"
      }
     },
     "output_type": "display_data"
    }
   ],
   "source": [
    "print(\n",
    "    Companies_df.select(\"headquarters\") \\\n",
    "                    .distinct() \\\n",
    "                    .sort(\"headquarters\") \\\n",
    "                    .rdd.flatMap(lambda x: x) \\\n",
    "                    .collect() \n",
    ")"
   ]
  },
  {
   "cell_type": "markdown",
   "metadata": {
    "application/vnd.databricks.v1+cell": {
     "cellMetadata": {
      "byteLimit": 2048000,
      "rowLimit": 10000
     },
     "inputWidgets": {},
     "nuid": "bd6f0982-bc03-47b7-8b66-cc31adab5dfd",
     "showTitle": false,
     "tableResultSettingsMap": {},
     "title": ""
    }
   },
   "source": [
    "And there is no issue for this column, also."
   ]
  },
  {
   "cell_type": "markdown",
   "metadata": {
    "application/vnd.databricks.v1+cell": {
     "cellMetadata": {
      "byteLimit": 2048000,
      "rowLimit": 10000
     },
     "inputWidgets": {},
     "nuid": "d81b9143-7e42-40ca-99cb-3abb9c95d416",
     "showTitle": false,
     "tableResultSettingsMap": {},
     "title": ""
    }
   },
   "source": [
    "## 5. Data Cleaning Requiremenets"
   ]
  },
  {
   "cell_type": "markdown",
   "metadata": {
    "application/vnd.databricks.v1+cell": {
     "cellMetadata": {
      "byteLimit": 2048000,
      "rowLimit": 10000
     },
     "inputWidgets": {},
     "nuid": "5640864f-eb23-46b7-9b93-e8e2337ff2bf",
     "showTitle": false,
     "tableResultSettingsMap": {},
     "title": ""
    }
   },
   "source": [
    "### 5.1. Handle Null Values"
   ]
  },
  {
   "cell_type": "markdown",
   "metadata": {
    "application/vnd.databricks.v1+cell": {
     "cellMetadata": {
      "byteLimit": 2048000,
      "rowLimit": 10000
     },
     "inputWidgets": {},
     "nuid": "a76d3c87-443c-4d77-81ea-38550c51b1f3",
     "showTitle": false,
     "tableResultSettingsMap": {},
     "title": ""
    }
   },
   "source": [
    "Let's first see top 3 rows of data:"
   ]
  },
  {
   "cell_type": "code",
   "execution_count": 0,
   "metadata": {
    "application/vnd.databricks.v1+cell": {
     "cellMetadata": {
      "byteLimit": 2048000,
      "rowLimit": 10000
     },
     "inputWidgets": {},
     "nuid": "0bd2f1f6-feb0-46e2-b916-8c732b495533",
     "showTitle": false,
     "tableResultSettingsMap": {},
     "title": ""
    }
   },
   "outputs": [
    {
     "output_type": "display_data",
     "data": {
      "text/html": [
       "<style scoped>\n",
       "  .table-result-container {\n",
       "    max-height: 300px;\n",
       "    overflow: auto;\n",
       "  }\n",
       "  table, th, td {\n",
       "    border: 1px solid black;\n",
       "    border-collapse: collapse;\n",
       "  }\n",
       "  th, td {\n",
       "    padding: 5px;\n",
       "  }\n",
       "  th {\n",
       "    text-align: left;\n",
       "  }\n",
       "</style><div class='table-result-container'><table class='table-result'><thead style='background-color: white'><tr><th>requirements_id</th><th>experience_years</th><th>education_level</th><th>skills_required</th></tr></thead><tbody><tr><td>req00000</td><td>None</td><td>Bachelor's</td><td>Hadoop, Leadership, Python</td></tr><tr><td>req00001</td><td>1 year</td><td>None</td><td>Communication, PowerBI, Scala</td></tr><tr><td>req00002</td><td>1 year</td><td>MSc</td><td>Spark, PowerBI</td></tr></tbody></table></div>"
      ]
     },
     "metadata": {
      "application/vnd.databricks.v1+output": {
       "addedWidgets": {},
       "aggData": [],
       "aggError": "",
       "aggOverflow": false,
       "aggSchema": [],
       "aggSeriesLimitReached": false,
       "aggType": "",
       "arguments": {},
       "columnCustomDisplayInfos": {},
       "data": [
        [
         "req00000",
         "None",
         "Bachelor's",
         "Hadoop, Leadership, Python"
        ],
        [
         "req00001",
         "1 year",
         "None",
         "Communication, PowerBI, Scala"
        ],
        [
         "req00002",
         "1 year",
         "MSc",
         "Spark, PowerBI"
        ]
       ],
       "datasetInfos": [],
       "dbfsResultPath": null,
       "isJsonSchema": true,
       "metadata": {},
       "overflow": false,
       "plotOptions": {
        "customPlotOptions": {},
        "displayType": "table",
        "pivotAggregation": null,
        "pivotColumns": null,
        "xColumns": null,
        "yColumns": null
       },
       "removedWidgets": [],
       "schema": [
        {
         "metadata": "{}",
         "name": "requirements_id",
         "type": "\"string\""
        },
        {
         "metadata": "{}",
         "name": "experience_years",
         "type": "\"string\""
        },
        {
         "metadata": "{}",
         "name": "education_level",
         "type": "\"string\""
        },
        {
         "metadata": "{}",
         "name": "skills_required",
         "type": "\"string\""
        }
       ],
       "type": "table"
      }
     },
     "output_type": "display_data"
    }
   ],
   "source": [
    "requirements_df.limit(3).display()"
   ]
  },
  {
   "cell_type": "markdown",
   "metadata": {
    "application/vnd.databricks.v1+cell": {
     "cellMetadata": {
      "byteLimit": 2048000,
      "rowLimit": 10000
     },
     "inputWidgets": {},
     "nuid": "ce4a9e0e-841d-4f6a-a515-a6a5e4ea0600",
     "showTitle": false,
     "tableResultSettingsMap": {},
     "title": ""
    }
   },
   "source": [
    "First of all, we can see each column has how many null values:"
   ]
  },
  {
   "cell_type": "code",
   "execution_count": 0,
   "metadata": {
    "application/vnd.databricks.v1+cell": {
     "cellMetadata": {
      "byteLimit": 2048000,
      "rowLimit": 10000
     },
     "inputWidgets": {},
     "nuid": "b96597d0-baff-4170-963b-f2aaba206edb",
     "showTitle": false,
     "tableResultSettingsMap": {},
     "title": ""
    }
   },
   "outputs": [
    {
     "output_type": "stream",
     "name": "stdout",
     "output_type": "stream",
     "text": [
      " 'requirements_id' has: 0 null value\n 'experience_years' has: 0 null value\n 'education_level' has: 0 null value\n 'skills_required' has: 0 null value\n"
     ]
    }
   ],
   "source": [
    "for COL_NAME in requirements_df.columns:\n",
    "    null_count = requirements_df.filter(col(COL_NAME).isNull()).count()\n",
    "    print(f\" '{COL_NAME}' has: {null_count} null value\")"
   ]
  },
  {
   "cell_type": "markdown",
   "metadata": {
    "application/vnd.databricks.v1+cell": {
     "cellMetadata": {
      "byteLimit": 2048000,
      "rowLimit": 10000
     },
     "inputWidgets": {},
     "nuid": "f5d235dd-f2d2-444a-a5c4-7b06a885d822",
     "showTitle": false,
     "tableResultSettingsMap": {},
     "title": ""
    }
   },
   "source": [
    "### 5.2. Handle Categorical Data"
   ]
  },
  {
   "cell_type": "markdown",
   "metadata": {
    "application/vnd.databricks.v1+cell": {
     "cellMetadata": {
      "byteLimit": 2048000,
      "rowLimit": 10000
     },
     "inputWidgets": {},
     "nuid": "0fa60fc0-ad0f-40ad-abb2-1030dbe77c3b",
     "showTitle": false,
     "tableResultSettingsMap": {},
     "title": ""
    }
   },
   "source": [
    "In this table, we have some categorical data as the following:\n",
    "- `education_level`\n",
    "- `skill_required`\n",
    "\n",
    "for these columns, I'll check the unique values to make sure about consistency and reliability."
   ]
  },
  {
   "cell_type": "markdown",
   "metadata": {
    "application/vnd.databricks.v1+cell": {
     "cellMetadata": {
      "byteLimit": 2048000,
      "rowLimit": 10000
     },
     "inputWidgets": {},
     "nuid": "304846ba-e284-4b7a-8232-d5f2e4f28675",
     "showTitle": false,
     "tableResultSettingsMap": {},
     "title": ""
    }
   },
   "source": [
    "#### 5.2.1 `education_level`"
   ]
  },
  {
   "cell_type": "markdown",
   "metadata": {
    "application/vnd.databricks.v1+cell": {
     "cellMetadata": {
      "byteLimit": 2048000,
      "rowLimit": 10000
     },
     "inputWidgets": {},
     "nuid": "35374173-3ab2-4a4d-85e0-56081c2c1646",
     "showTitle": false,
     "tableResultSettingsMap": {},
     "title": ""
    }
   },
   "source": [
    "Let's see difference categories of this column."
   ]
  },
  {
   "cell_type": "code",
   "execution_count": 0,
   "metadata": {
    "application/vnd.databricks.v1+cell": {
     "cellMetadata": {
      "byteLimit": 2048000,
      "rowLimit": 10000
     },
     "inputWidgets": {},
     "nuid": "d5135bd2-c76d-4f5e-a60f-bc41f1871419",
     "showTitle": false,
     "tableResultSettingsMap": {},
     "title": ""
    }
   },
   "outputs": [
    {
     "output_type": "stream",
     "name": "stdout",
     "output_type": "stream",
     "text": [
      "['B.Sc.', 'BS', \"Bachelor's\", 'MSc', 'None', 'PhD']\n"
     ]
    }
   ],
   "source": [
    "print(\n",
    "    requirements_df.select(\"education_level\") \\\n",
    "                    .distinct() \\\n",
    "                    .sort(\"education_level\") \\\n",
    "                    .rdd.flatMap(lambda x: x) \\\n",
    "                    .collect() \n",
    ")"
   ]
  },
  {
   "cell_type": "markdown",
   "metadata": {
    "application/vnd.databricks.v1+cell": {
     "cellMetadata": {
      "byteLimit": 2048000,
      "rowLimit": 10000
     },
     "inputWidgets": {},
     "nuid": "54696e7d-f96d-4ae8-a608-1ab34bddbd64",
     "showTitle": false,
     "tableResultSettingsMap": {},
     "title": ""
    }
   },
   "source": [
    "We should only have the below categories. So we need to convert some of them:\n",
    "- Bachelor\n",
    "- Master\n",
    "- None\n",
    "- PhD"
   ]
  },
  {
   "cell_type": "code",
   "execution_count": 0,
   "metadata": {
    "application/vnd.databricks.v1+cell": {
     "cellMetadata": {
      "byteLimit": 2048000,
      "rowLimit": 10000
     },
     "inputWidgets": {},
     "nuid": "813d2745-491d-4951-a496-a776db846c1e",
     "showTitle": false,
     "tableResultSettingsMap": {},
     "title": ""
    }
   },
   "outputs": [],
   "source": [
    "requirements_df = requirements_df.withColumn(\n",
    "    \"education_level\",\n",
    "    when(col(\"education_level\").isin(\"B.Sc.\", \"BS\", \"Bachelor's\"), \"Bachelor\")\n",
    "    .when(col(\"education_level\").isin(\"MSc\"), \"Master\")\n",
    "    .otherwise(col(\"education_level\"))\n",
    ")"
   ]
  },
  {
   "cell_type": "markdown",
   "metadata": {
    "application/vnd.databricks.v1+cell": {
     "cellMetadata": {
      "byteLimit": 2048000,
      "rowLimit": 10000
     },
     "inputWidgets": {},
     "nuid": "07b1c2af-640b-4ae8-8a44-f4dd6f59a276",
     "showTitle": false,
     "tableResultSettingsMap": {},
     "title": ""
    }
   },
   "source": [
    "#### 5.2.2 `skill_required`"
   ]
  },
  {
   "cell_type": "markdown",
   "metadata": {
    "application/vnd.databricks.v1+cell": {
     "cellMetadata": {
      "byteLimit": 2048000,
      "rowLimit": 10000
     },
     "inputWidgets": {},
     "nuid": "f8316914-531f-4894-b5dd-a1cfb1789a2d",
     "showTitle": false,
     "tableResultSettingsMap": {},
     "title": ""
    }
   },
   "source": [
    "First thing, is that we should split values to some columns. So, if the new column has that skill we put 1 and otherwise 0. So data would be sparse. First of all, we should normalize data:"
   ]
  },
  {
   "cell_type": "code",
   "execution_count": 0,
   "metadata": {
    "application/vnd.databricks.v1+cell": {
     "cellMetadata": {
      "byteLimit": 2048000,
      "rowLimit": 10000
     },
     "inputWidgets": {},
     "nuid": "3770e24f-70fb-4d3c-8419-8946f8764517",
     "showTitle": false,
     "tableResultSettingsMap": {},
     "title": ""
    }
   },
   "outputs": [],
   "source": [
    "def one_hot_encode_skills(df, skills_column):\n",
    "    # Step 1: Split the 'skills_required' column and remove any extra spaces from each individual skill\n",
    "    df_copy = df.withColumn(\n",
    "        \"skills_array\",\n",
    "        split(trim(lower(col(skills_column))), \",\")  # Split by comma and remove extra spaces\n",
    "    )\n",
    "\n",
    "    # Trim spaces for each skill individually in the array using transform\n",
    "    df_copy = df_copy.withColumn(\n",
    "        \"skills_array\", \n",
    "        transform(col(\"skills_array\"), lambda x: trim(x))  # Apply trim to each element in the array\n",
    "    )\n",
    "\n",
    "    # Step 2: Get the unique skills by exploding the 'skills_array' and getting distinct values\n",
    "    unique_skills = df_copy.select(explode(col(\"skills_array\")).alias(\"skill\")) \\\n",
    "                           .distinct() \\\n",
    "                           .rdd.flatMap(lambda x: x) \\\n",
    "                           .collect()\n",
    "\n",
    "    # Step 3: One-hot encode for each skill\n",
    "    for skill in unique_skills:\n",
    "        df_copy = df_copy.withColumn(\n",
    "            skill,\n",
    "            when(array_contains(col(\"skills_array\"), skill), lit(1)).otherwise(lit(0))\n",
    "        )\n",
    "\n",
    "    df_copy = df_copy.drop(\"skills_array\")\n",
    "    df_copy = df_copy.drop(skills_column)\n",
    "    return df_copy"
   ]
  },
  {
   "cell_type": "code",
   "execution_count": 0,
   "metadata": {
    "application/vnd.databricks.v1+cell": {
     "cellMetadata": {
      "byteLimit": 2048000,
      "rowLimit": 10000
     },
     "inputWidgets": {},
     "nuid": "23ad10b0-1a13-443f-8f91-87cd9587a286",
     "showTitle": false,
     "tableResultSettingsMap": {},
     "title": ""
    }
   },
   "outputs": [],
   "source": [
    "requirements_df = one_hot_encode_skills(requirements_df, \"skills_required\")"
   ]
  },
  {
   "cell_type": "markdown",
   "metadata": {
    "application/vnd.databricks.v1+cell": {
     "cellMetadata": {
      "byteLimit": 2048000,
      "rowLimit": 10000
     },
     "inputWidgets": {},
     "nuid": "908c49f1-3729-4c59-961a-fe546f185c83",
     "showTitle": false,
     "tableResultSettingsMap": {},
     "title": ""
    }
   },
   "source": [
    "### 5.3. Handle Numerical Data"
   ]
  },
  {
   "cell_type": "markdown",
   "metadata": {
    "application/vnd.databricks.v1+cell": {
     "cellMetadata": {
      "byteLimit": 2048000,
      "rowLimit": 10000
     },
     "inputWidgets": {},
     "nuid": "f94afb25-a59c-45cc-8409-4d45c99f0944",
     "showTitle": false,
     "tableResultSettingsMap": {},
     "title": ""
    }
   },
   "source": [
    "Also, we have one numerical data:\n",
    "- `experience_years`\n",
    "\n",
    "For this column, we should remove all symbols and just keep the numbers."
   ]
  },
  {
   "cell_type": "markdown",
   "metadata": {
    "application/vnd.databricks.v1+cell": {
     "cellMetadata": {
      "byteLimit": 2048000,
      "rowLimit": 10000
     },
     "inputWidgets": {},
     "nuid": "e3f4d8c8-775b-4588-87fd-82438bf14649",
     "showTitle": false,
     "tableResultSettingsMap": {},
     "title": ""
    }
   },
   "source": [
    "First, we should conver some lables:"
   ]
  },
  {
   "cell_type": "code",
   "execution_count": 0,
   "metadata": {
    "application/vnd.databricks.v1+cell": {
     "cellMetadata": {
      "byteLimit": 2048000,
      "rowLimit": 10000
     },
     "inputWidgets": {},
     "nuid": "3150d916-7fcc-49cd-9b1b-d2440334c40d",
     "showTitle": false,
     "tableResultSettingsMap": {},
     "title": ""
    }
   },
   "outputs": [],
   "source": [
    "requirements_df = requirements_df.withColumn(\n",
    "    \"experience_years\",\n",
    "    when(col(\"experience_years\").isin(\"1 year\"), 1)\n",
    "    .when(col(\"experience_years\").isin(\"2+\" , \"at least 2\"), 2)\n",
    "    .when(col(\"experience_years\").isin(\"3-5 yrs\"), 4)\n",
    "    .when(col(\"experience_years\").isin(\"None\"), 0)\n",
    "    .otherwise(col(\"experience_years\"))\n",
    ")"
   ]
  },
  {
   "cell_type": "markdown",
   "metadata": {
    "application/vnd.databricks.v1+cell": {
     "cellMetadata": {
      "byteLimit": 2048000,
      "rowLimit": 10000
     },
     "inputWidgets": {},
     "nuid": "a12cde19-4176-4d10-a9f7-291433586580",
     "showTitle": false,
     "tableResultSettingsMap": {},
     "title": ""
    }
   },
   "source": [
    "Now, we should change the column type"
   ]
  },
  {
   "cell_type": "code",
   "execution_count": 0,
   "metadata": {
    "application/vnd.databricks.v1+cell": {
     "cellMetadata": {
      "byteLimit": 2048000,
      "rowLimit": 10000
     },
     "inputWidgets": {},
     "nuid": "b8b2cf24-6a89-4c1c-bfc9-195bdf43371d",
     "showTitle": false,
     "tableResultSettingsMap": {},
     "title": ""
    }
   },
   "outputs": [],
   "source": [
    "requirements_df = requirements_df.withColumn(\n",
    "    'experience_years',  \n",
    "    col('experience_years').cast('int') \n",
    ")"
   ]
  },
  {
   "cell_type": "markdown",
   "metadata": {
    "application/vnd.databricks.v1+cell": {
     "cellMetadata": {
      "byteLimit": 2048000,
      "rowLimit": 10000
     },
     "inputWidgets": {},
     "nuid": "8b6d7ae8-1df7-43a5-a0ce-ed53bdc66f53",
     "showTitle": false,
     "tableResultSettingsMap": {},
     "title": ""
    }
   },
   "source": [
    "## 6. Data Cleaning Salaries"
   ]
  },
  {
   "cell_type": "markdown",
   "metadata": {
    "application/vnd.databricks.v1+cell": {
     "cellMetadata": {
      "byteLimit": 2048000,
      "rowLimit": 10000
     },
     "inputWidgets": {},
     "nuid": "7d47e1c4-4f4c-4b28-8c78-2d3f4da8e7c5",
     "showTitle": false,
     "tableResultSettingsMap": {},
     "title": ""
    }
   },
   "source": [
    "### 6.1. Handle Null Values"
   ]
  },
  {
   "cell_type": "markdown",
   "metadata": {
    "application/vnd.databricks.v1+cell": {
     "cellMetadata": {
      "byteLimit": 2048000,
      "rowLimit": 10000
     },
     "inputWidgets": {},
     "nuid": "4ae7a795-eda2-4471-87e4-0bf60a68a567",
     "showTitle": false,
     "tableResultSettingsMap": {},
     "title": ""
    }
   },
   "source": [
    "Let's first see top 3 rows of data:"
   ]
  },
  {
   "cell_type": "code",
   "execution_count": 0,
   "metadata": {
    "application/vnd.databricks.v1+cell": {
     "cellMetadata": {
      "byteLimit": 2048000,
      "rowLimit": 10000
     },
     "inputWidgets": {},
     "nuid": "62cef7fd-76e6-44ed-8b56-67b4ed717e00",
     "showTitle": false,
     "tableResultSettingsMap": {},
     "title": ""
    }
   },
   "outputs": [
    {
     "output_type": "display_data",
     "data": {
      "text/plain": [
       "\u001B[0;31m---------------------------------------------------------------------------\u001B[0m\n",
       "\u001B[0;31mNameError\u001B[0m                                 Traceback (most recent call last)\n",
       "File \u001B[0;32m<command-1527829509962857>:1\u001B[0m\n",
       "\u001B[0;32m----> 1\u001B[0m \u001B[43mSalaries_df\u001B[49m\u001B[38;5;241m.\u001B[39mlimit(\u001B[38;5;241m3\u001B[39m)\u001B[38;5;241m.\u001B[39mdisplay()\n",
       "\n",
       "\u001B[0;31mNameError\u001B[0m: name 'Salaries_df' is not defined"
      ]
     },
     "metadata": {
      "application/vnd.databricks.v1+output": {
       "arguments": {},
       "data": "\u001B[0;31m---------------------------------------------------------------------------\u001B[0m\n\u001B[0;31mNameError\u001B[0m                                 Traceback (most recent call last)\nFile \u001B[0;32m<command-1527829509962857>:1\u001B[0m\n\u001B[0;32m----> 1\u001B[0m \u001B[43mSalaries_df\u001B[49m\u001B[38;5;241m.\u001B[39mlimit(\u001B[38;5;241m3\u001B[39m)\u001B[38;5;241m.\u001B[39mdisplay()\n\n\u001B[0;31mNameError\u001B[0m: name 'Salaries_df' is not defined",
       "errorSummary": "<span class='ansi-red-fg'>NameError</span>: name 'Salaries_df' is not defined",
       "errorTraceType": "ansi",
       "metadata": {},
       "type": "ipynbError"
      }
     },
     "output_type": "display_data"
    }
   ],
   "source": [
    "Salaries_df.limit(3).display()"
   ]
  },
  {
   "cell_type": "markdown",
   "metadata": {
    "application/vnd.databricks.v1+cell": {
     "cellMetadata": {
      "byteLimit": 2048000,
      "rowLimit": 10000
     },
     "inputWidgets": {},
     "nuid": "4e6e9f4b-54ff-477d-8494-43605c68f2bb",
     "showTitle": false,
     "tableResultSettingsMap": {},
     "title": ""
    }
   },
   "source": [
    "First of all, we can see each column has how many null values:"
   ]
  },
  {
   "cell_type": "code",
   "execution_count": 0,
   "metadata": {
    "application/vnd.databricks.v1+cell": {
     "cellMetadata": {
      "byteLimit": 2048000,
      "rowLimit": 10000
     },
     "inputWidgets": {},
     "nuid": "6462718b-06ae-455a-8c23-f8d92fa89c92",
     "showTitle": false,
     "tableResultSettingsMap": {},
     "title": ""
    }
   },
   "outputs": [
    {
     "output_type": "display_data",
     "data": {
      "text/plain": [
       "\u001B[0;31m---------------------------------------------------------------------------\u001B[0m\n",
       "\u001B[0;31mNameError\u001B[0m                                 Traceback (most recent call last)\n",
       "File \u001B[0;32m<command-1362181281344482>:1\u001B[0m\n",
       "\u001B[0;32m----> 1\u001B[0m \u001B[38;5;28;01mfor\u001B[39;00m COL_NAME \u001B[38;5;129;01min\u001B[39;00m \u001B[43mSalaries_df\u001B[49m\u001B[38;5;241m.\u001B[39mcolumns:\n",
       "\u001B[1;32m      2\u001B[0m     null_count \u001B[38;5;241m=\u001B[39m Salaries_df\u001B[38;5;241m.\u001B[39mfilter(col(COL_NAME)\u001B[38;5;241m.\u001B[39misNull())\u001B[38;5;241m.\u001B[39mcount()\n",
       "\u001B[1;32m      3\u001B[0m     \u001B[38;5;28mprint\u001B[39m(\u001B[38;5;124mf\u001B[39m\u001B[38;5;124m\"\u001B[39m\u001B[38;5;124m \u001B[39m\u001B[38;5;124m'\u001B[39m\u001B[38;5;132;01m{\u001B[39;00mCOL_NAME\u001B[38;5;132;01m}\u001B[39;00m\u001B[38;5;124m'\u001B[39m\u001B[38;5;124m has: \u001B[39m\u001B[38;5;132;01m{\u001B[39;00mnull_count\u001B[38;5;132;01m}\u001B[39;00m\u001B[38;5;124m null value\u001B[39m\u001B[38;5;124m\"\u001B[39m)\n",
       "\n",
       "\u001B[0;31mNameError\u001B[0m: name 'Salaries_df' is not defined"
      ]
     },
     "metadata": {
      "application/vnd.databricks.v1+output": {
       "arguments": {},
       "data": "\u001B[0;31m---------------------------------------------------------------------------\u001B[0m\n\u001B[0;31mNameError\u001B[0m                                 Traceback (most recent call last)\nFile \u001B[0;32m<command-1362181281344482>:1\u001B[0m\n\u001B[0;32m----> 1\u001B[0m \u001B[38;5;28;01mfor\u001B[39;00m COL_NAME \u001B[38;5;129;01min\u001B[39;00m \u001B[43mSalaries_df\u001B[49m\u001B[38;5;241m.\u001B[39mcolumns:\n\u001B[1;32m      2\u001B[0m     null_count \u001B[38;5;241m=\u001B[39m Salaries_df\u001B[38;5;241m.\u001B[39mfilter(col(COL_NAME)\u001B[38;5;241m.\u001B[39misNull())\u001B[38;5;241m.\u001B[39mcount()\n\u001B[1;32m      3\u001B[0m     \u001B[38;5;28mprint\u001B[39m(\u001B[38;5;124mf\u001B[39m\u001B[38;5;124m\"\u001B[39m\u001B[38;5;124m \u001B[39m\u001B[38;5;124m'\u001B[39m\u001B[38;5;132;01m{\u001B[39;00mCOL_NAME\u001B[38;5;132;01m}\u001B[39;00m\u001B[38;5;124m'\u001B[39m\u001B[38;5;124m has: \u001B[39m\u001B[38;5;132;01m{\u001B[39;00mnull_count\u001B[38;5;132;01m}\u001B[39;00m\u001B[38;5;124m null value\u001B[39m\u001B[38;5;124m\"\u001B[39m)\n\n\u001B[0;31mNameError\u001B[0m: name 'Salaries_df' is not defined",
       "errorSummary": "<span class='ansi-red-fg'>NameError</span>: name 'Salaries_df' is not defined",
       "errorTraceType": "ansi",
       "metadata": {},
       "type": "ipynbError"
      }
     },
     "output_type": "display_data"
    }
   ],
   "source": [
    "for COL_NAME in Salaries_df.columns:\n",
    "    null_count = Salaries_df.filter(col(COL_NAME).isNull()).count()\n",
    "    print(f\" '{COL_NAME}' has: {null_count} null value\")"
   ]
  },
  {
   "cell_type": "markdown",
   "metadata": {
    "application/vnd.databricks.v1+cell": {
     "cellMetadata": {
      "byteLimit": 2048000,
      "rowLimit": 10000
     },
     "inputWidgets": {},
     "nuid": "2b7c6fb8-bd96-4932-9f99-9f3b356e54fe",
     "showTitle": false,
     "tableResultSettingsMap": {},
     "title": ""
    }
   },
   "source": [
    "### 6.2. Handle Categorical Data"
   ]
  },
  {
   "cell_type": "markdown",
   "metadata": {
    "application/vnd.databricks.v1+cell": {
     "cellMetadata": {
      "byteLimit": 2048000,
      "rowLimit": 10000
     },
     "inputWidgets": {},
     "nuid": "9c2b375c-d9c8-4b66-87b3-b9c7bf9479f5",
     "showTitle": false,
     "tableResultSettingsMap": {},
     "title": ""
    }
   },
   "source": [
    "In this table, we have two categorical data as the following:\n",
    "- `currency`\n",
    "- `compensation_type`\n",
    "\n",
    "for these columns, I'll check the unique values to make sure about consistency and reliability."
   ]
  },
  {
   "cell_type": "markdown",
   "metadata": {
    "application/vnd.databricks.v1+cell": {
     "cellMetadata": {
      "byteLimit": 2048000,
      "rowLimit": 10000
     },
     "inputWidgets": {},
     "nuid": "76009d6c-2c93-4794-9bbc-ef1a21dff773",
     "showTitle": false,
     "tableResultSettingsMap": {},
     "title": ""
    }
   },
   "source": [
    "#### 6.2.1 `currency`"
   ]
  },
  {
   "cell_type": "markdown",
   "metadata": {
    "application/vnd.databricks.v1+cell": {
     "cellMetadata": {
      "byteLimit": 2048000,
      "rowLimit": 10000
     },
     "inputWidgets": {},
     "nuid": "6f5e55a0-7536-47d4-9eab-49e623aa4e3a",
     "showTitle": false,
     "tableResultSettingsMap": {},
     "title": ""
    },
    "jupyter": {
     "outputs_hidden": true
    }
   },
   "source": [
    "First, let's see the unique categories:"
   ]
  },
  {
   "cell_type": "code",
   "execution_count": 0,
   "metadata": {
    "application/vnd.databricks.v1+cell": {
     "cellMetadata": {
      "byteLimit": 2048000,
      "rowLimit": 10000
     },
     "inputWidgets": {},
     "nuid": "5a939e2f-759f-4529-abbc-ae134a167149",
     "showTitle": false,
     "tableResultSettingsMap": {},
     "title": ""
    }
   },
   "outputs": [
    {
     "output_type": "stream",
     "name": "stdout",
     "output_type": "stream",
     "text": [
      "['$CAD', 'CAD', 'CAD$', 'USD']\n"
     ]
    }
   ],
   "source": [
    "print(\n",
    "    salaries_df.select(\"currency\") \\\n",
    "                    .distinct() \\\n",
    "                    .sort(\"currency\") \\\n",
    "                    .rdd.flatMap(lambda x: x) \\\n",
    "                    .collect() \n",
    ")"
   ]
  },
  {
   "cell_type": "markdown",
   "metadata": {
    "application/vnd.databricks.v1+cell": {
     "cellMetadata": {
      "byteLimit": 2048000,
      "rowLimit": 10000
     },
     "inputWidgets": {},
     "nuid": "fbc30290-0dc2-41fe-823f-2bd5121e3e3c",
     "showTitle": false,
     "tableResultSettingsMap": {},
     "title": ""
    }
   },
   "source": [
    "Now, we should convert some categories:"
   ]
  },
  {
   "cell_type": "code",
   "execution_count": 0,
   "metadata": {
    "application/vnd.databricks.v1+cell": {
     "cellMetadata": {
      "byteLimit": 2048000,
      "rowLimit": 10000
     },
     "inputWidgets": {},
     "nuid": "775fdb0b-8d42-435e-8a47-c150fda08a98",
     "showTitle": false,
     "tableResultSettingsMap": {},
     "title": ""
    }
   },
   "outputs": [],
   "source": [
    "salaries_df = salaries_df.withColumn(\n",
    "    \"currency\",\n",
    "    when(col(\"currency\").isin(\"$CAD\", \"CAD$\"), \"CAD\")\n",
    "    .otherwise(col(\"currency\"))\n",
    ")"
   ]
  },
  {
   "cell_type": "markdown",
   "metadata": {
    "application/vnd.databricks.v1+cell": {
     "cellMetadata": {
      "byteLimit": 2048000,
      "rowLimit": 10000
     },
     "inputWidgets": {},
     "nuid": "2d0bede0-a5da-405a-851b-472cbca9644c",
     "showTitle": false,
     "tableResultSettingsMap": {},
     "title": ""
    }
   },
   "source": [
    "#### 6.2.2 `compensation_type`"
   ]
  },
  {
   "cell_type": "markdown",
   "metadata": {
    "application/vnd.databricks.v1+cell": {
     "cellMetadata": {
      "byteLimit": 2048000,
      "rowLimit": 10000
     },
     "inputWidgets": {},
     "nuid": "b7d09c9a-1efa-47ab-9522-5c6a3fb115de",
     "showTitle": false,
     "tableResultSettingsMap": {},
     "title": ""
    }
   },
   "source": [
    "We can take a look at unique categories:"
   ]
  },
  {
   "cell_type": "code",
   "execution_count": 0,
   "metadata": {
    "application/vnd.databricks.v1+cell": {
     "cellMetadata": {
      "byteLimit": 2048000,
      "rowLimit": 10000
     },
     "inputWidgets": {},
     "nuid": "b6dc0470-a5df-4593-a98c-8fd78d6bea55",
     "showTitle": false,
     "tableResultSettingsMap": {},
     "title": ""
    }
   },
   "outputs": [
    {
     "output_type": "stream",
     "name": "stdout",
     "output_type": "stream",
     "text": [
      "['Annual', 'Hourly']\n"
     ]
    }
   ],
   "source": [
    "print(\n",
    "    salaries_df.select(\"compensation_type\") \\\n",
    "                    .distinct() \\\n",
    "                    .sort(\"compensation_type\") \\\n",
    "                    .rdd.flatMap(lambda x: x) \\\n",
    "                    .collect() \n",
    ")"
   ]
  },
  {
   "cell_type": "markdown",
   "metadata": {
    "application/vnd.databricks.v1+cell": {
     "cellMetadata": {
      "byteLimit": 2048000,
      "rowLimit": 10000
     },
     "inputWidgets": {},
     "nuid": "4a61ea76-d41d-4d44-aa61-4b5724f87001",
     "showTitle": false,
     "tableResultSettingsMap": {},
     "title": ""
    }
   },
   "source": [
    "There is no issues regarding this column."
   ]
  },
  {
   "cell_type": "markdown",
   "metadata": {
    "application/vnd.databricks.v1+cell": {
     "cellMetadata": {
      "byteLimit": 2048000,
      "rowLimit": 10000
     },
     "inputWidgets": {},
     "nuid": "975931d8-a034-453a-b231-5737a621e7b7",
     "showTitle": false,
     "tableResultSettingsMap": {},
     "title": ""
    }
   },
   "source": [
    "### 6.3. Handle Numerical Data"
   ]
  },
  {
   "cell_type": "markdown",
   "metadata": {
    "application/vnd.databricks.v1+cell": {
     "cellMetadata": {
      "byteLimit": 2048000,
      "rowLimit": 10000
     },
     "inputWidgets": {},
     "nuid": "063d33d9-12c6-4767-945e-2de7f3d78dfe",
     "showTitle": false,
     "tableResultSettingsMap": {},
     "title": ""
    }
   },
   "source": [
    "We have one numerical data:\n",
    "- `salary_range`\n",
    "\n",
    "For this column, we can split it into two columns has minimum and maximum salary which are numerical data."
   ]
  },
  {
   "cell_type": "code",
   "execution_count": 0,
   "metadata": {
    "application/vnd.databricks.v1+cell": {
     "cellMetadata": {
      "byteLimit": 2048000,
      "rowLimit": 10000
     },
     "inputWidgets": {},
     "nuid": "3cccf4c4-39d2-4c7a-a4a3-a66725b32f15",
     "showTitle": false,
     "tableResultSettingsMap": {},
     "title": ""
    }
   },
   "outputs": [
    {
     "output_type": "stream",
     "name": "stdout",
     "output_type": "stream",
     "text": [
      "['$55K to $75K', '$60k - $80k', '$90,000 - $120,000', '35/hr', '50000 - 70000', '80000 per annum', 'Negotiable']\n"
     ]
    }
   ],
   "source": [
    "print(\n",
    "    salaries_df.select(\"salary_range\") \\\n",
    "                    .distinct() \\\n",
    "                    .sort(\"salary_range\") \\\n",
    "                    .rdd.flatMap(lambda x: x) \\\n",
    "                    .collect() \n",
    ")\n"
   ]
  },
  {
   "cell_type": "markdown",
   "metadata": {
    "application/vnd.databricks.v1+cell": {
     "cellMetadata": {
      "byteLimit": 2048000,
      "rowLimit": 10000
     },
     "inputWidgets": {},
     "nuid": "9d0d6ebe-ef58-4f0a-b03e-2ef4f1ce93fc",
     "showTitle": false,
     "tableResultSettingsMap": {},
     "title": ""
    }
   },
   "source": [
    "And, we should convert some lables:"
   ]
  },
  {
   "cell_type": "code",
   "execution_count": 0,
   "metadata": {
    "application/vnd.databricks.v1+cell": {
     "cellMetadata": {
      "byteLimit": 2048000,
      "rowLimit": 10000
     },
     "inputWidgets": {},
     "nuid": "6082bac1-5b82-4eb7-9485-48836609cef7",
     "showTitle": false,
     "tableResultSettingsMap": {},
     "title": ""
    }
   },
   "outputs": [],
   "source": [
    "salaries_df = salaries_df.withColumn(\n",
    "    \"salary_range\",\n",
    "    when(col(\"salary_range\").isin(\"$55K to $75K\" , \"50000 - 70000\"), \"$50K - $75K\")\n",
    "    .when(col(\"salary_range\").isin(\"$90,000 - $120,000\"), \"$90K - $120K\")\n",
    "    .when(col(\"salary_range\").isin(\"80000 per annum\"), \"$80K\")\n",
    "    .when(col(\"salary_range\").isin(\"35/hr\"), \"Negotiable\")\n",
    "    .otherwise(col(\"salary_range\"))\n",
    ")"
   ]
  },
  {
   "cell_type": "markdown",
   "metadata": {
    "application/vnd.databricks.v1+cell": {
     "cellMetadata": {
      "byteLimit": 2048000,
      "rowLimit": 10000
     },
     "inputWidgets": {},
     "nuid": "01b97664-0e24-4b8e-b719-11fe3662f365",
     "showTitle": false,
     "tableResultSettingsMap": {},
     "title": ""
    }
   },
   "source": [
    "## 7. Load Cleaned Tables to New Database"
   ]
  },
  {
   "cell_type": "markdown",
   "metadata": {
    "application/vnd.databricks.v1+cell": {
     "cellMetadata": {
      "byteLimit": 2048000,
      "rowLimit": 10000
     },
     "inputWidgets": {},
     "nuid": "e5112b4a-41e4-4ab8-a89c-9287d48311d4",
     "showTitle": false,
     "tableResultSettingsMap": {},
     "title": ""
    }
   },
   "source": [
    "Now, we can see final version of cleaned data in different tables:"
   ]
  },
  {
   "cell_type": "code",
   "execution_count": 0,
   "metadata": {
    "application/vnd.databricks.v1+cell": {
     "cellMetadata": {
      "byteLimit": 2048000,
      "rowLimit": 10000
     },
     "inputWidgets": {},
     "nuid": "ba7f964d-b618-468c-9501-c83606e9a05b",
     "showTitle": false,
     "tableResultSettingsMap": {},
     "title": ""
    }
   },
   "outputs": [
    {
     "output_type": "display_data",
     "data": {
      "text/html": [
       "<style scoped>\n",
       "  .table-result-container {\n",
       "    max-height: 300px;\n",
       "    overflow: auto;\n",
       "  }\n",
       "  table, th, td {\n",
       "    border: 1px solid black;\n",
       "    border-collapse: collapse;\n",
       "  }\n",
       "  th, td {\n",
       "    padding: 5px;\n",
       "  }\n",
       "  th {\n",
       "    text-align: left;\n",
       "  }\n",
       "</style><div class='table-result-container'><table class='table-result'><thead style='background-color: white'><tr><th>job_id</th><th>job_title</th><th>company_id</th><th>job_type</th><th>requirements_id</th><th>salary_id</th><th>city</th><th>province</th><th>year_post</th><th>month_post</th><th>day_post</th></tr></thead><tbody><tr><td>j00000</td><td>Data Engineer</td><td>comp164</td><td>Part Time</td><td>req00000</td><td>sal00000</td><td>Remote</td><td>Remote</td><td>2025</td><td>2</td><td>26</td></tr><tr><td>j00001</td><td>Data Analyst</td><td>comp029</td><td>Full Time</td><td>req00001</td><td>sal00001</td><td>Edmonton</td><td>AB</td><td>2024</td><td>6</td><td>24</td></tr><tr><td>j00002</td><td>Data Analyst</td><td>comp007</td><td>Full Time</td><td>req00002</td><td>sal00002</td><td>Ottawa</td><td>ON</td><td>2025</td><td>3</td><td>24</td></tr></tbody></table></div>"
      ]
     },
     "metadata": {
      "application/vnd.databricks.v1+output": {
       "addedWidgets": {},
       "aggData": [],
       "aggError": "",
       "aggOverflow": false,
       "aggSchema": [],
       "aggSeriesLimitReached": false,
       "aggType": "",
       "arguments": {},
       "columnCustomDisplayInfos": {},
       "data": [
        [
         "j00000",
         "Data Engineer",
         "comp164",
         "Part Time",
         "req00000",
         "sal00000",
         "Remote",
         "Remote",
         2025,
         2,
         26
        ],
        [
         "j00001",
         "Data Analyst",
         "comp029",
         "Full Time",
         "req00001",
         "sal00001",
         "Edmonton",
         "AB",
         2024,
         6,
         24
        ],
        [
         "j00002",
         "Data Analyst",
         "comp007",
         "Full Time",
         "req00002",
         "sal00002",
         "Ottawa",
         "ON",
         2025,
         3,
         24
        ]
       ],
       "datasetInfos": [],
       "dbfsResultPath": null,
       "isJsonSchema": true,
       "metadata": {},
       "overflow": false,
       "plotOptions": {
        "customPlotOptions": {},
        "displayType": "table",
        "pivotAggregation": null,
        "pivotColumns": null,
        "xColumns": null,
        "yColumns": null
       },
       "removedWidgets": [],
       "schema": [
        {
         "metadata": "{}",
         "name": "job_id",
         "type": "\"string\""
        },
        {
         "metadata": "{}",
         "name": "job_title",
         "type": "\"string\""
        },
        {
         "metadata": "{}",
         "name": "company_id",
         "type": "\"string\""
        },
        {
         "metadata": "{}",
         "name": "job_type",
         "type": "\"string\""
        },
        {
         "metadata": "{}",
         "name": "requirements_id",
         "type": "\"string\""
        },
        {
         "metadata": "{}",
         "name": "salary_id",
         "type": "\"string\""
        },
        {
         "metadata": "{}",
         "name": "city",
         "type": "\"string\""
        },
        {
         "metadata": "{}",
         "name": "province",
         "type": "\"string\""
        },
        {
         "metadata": "{}",
         "name": "year_post",
         "type": "\"integer\""
        },
        {
         "metadata": "{}",
         "name": "month_post",
         "type": "\"integer\""
        },
        {
         "metadata": "{}",
         "name": "day_post",
         "type": "\"integer\""
        }
       ],
       "type": "table"
      }
     },
     "output_type": "display_data"
    }
   ],
   "source": [
    "jobs_df.limit(3).display()"
   ]
  },
  {
   "cell_type": "code",
   "execution_count": 0,
   "metadata": {
    "application/vnd.databricks.v1+cell": {
     "cellMetadata": {
      "byteLimit": 2048000,
      "rowLimit": 10000
     },
     "inputWidgets": {},
     "nuid": "a711919a-9451-43eb-99fb-e3cff3f1f650",
     "showTitle": false,
     "tableResultSettingsMap": {},
     "title": ""
    }
   },
   "outputs": [
    {
     "output_type": "display_data",
     "data": {
      "text/html": [
       "<style scoped>\n",
       "  .table-result-container {\n",
       "    max-height: 300px;\n",
       "    overflow: auto;\n",
       "  }\n",
       "  table, th, td {\n",
       "    border: 1px solid black;\n",
       "    border-collapse: collapse;\n",
       "  }\n",
       "  th, td {\n",
       "    padding: 5px;\n",
       "  }\n",
       "  th {\n",
       "    text-align: left;\n",
       "  }\n",
       "</style><div class='table-result-container'><table class='table-result'><thead style='background-color: white'><tr><th>company_id</th><th>company_name</th><th>industry</th><th>headquarters</th><th>founded</th></tr></thead><tbody><tr><td>comp069</td><td>Wilson, Frost and Robinson</td><td>Retail</td><td>West Patricia, NH</td><td>null</td></tr><tr><td>comp034</td><td>Wilson-Mitchell</td><td>Education</td><td>New Joshuachester, FL</td><td>2000.0</td></tr><tr><td>comp112</td><td>Chapman-Allen</td><td>Healthcare</td><td>Jacobsville, AL</td><td>null</td></tr></tbody></table></div>"
      ]
     },
     "metadata": {
      "application/vnd.databricks.v1+output": {
       "addedWidgets": {},
       "aggData": [],
       "aggError": "",
       "aggOverflow": false,
       "aggSchema": [],
       "aggSeriesLimitReached": false,
       "aggType": "",
       "arguments": {},
       "columnCustomDisplayInfos": {},
       "data": [
        [
         "comp069",
         "Wilson, Frost and Robinson",
         "Retail",
         "West Patricia, NH",
         null
        ],
        [
         "comp034",
         "Wilson-Mitchell",
         "Education",
         "New Joshuachester, FL",
         2000.0
        ],
        [
         "comp112",
         "Chapman-Allen",
         "Healthcare",
         "Jacobsville, AL",
         null
        ]
       ],
       "datasetInfos": [],
       "dbfsResultPath": null,
       "isJsonSchema": true,
       "metadata": {},
       "overflow": false,
       "plotOptions": {
        "customPlotOptions": {},
        "displayType": "table",
        "pivotAggregation": null,
        "pivotColumns": null,
        "xColumns": null,
        "yColumns": null
       },
       "removedWidgets": [],
       "schema": [
        {
         "metadata": "{}",
         "name": "company_id",
         "type": "\"string\""
        },
        {
         "metadata": "{}",
         "name": "company_name",
         "type": "\"string\""
        },
        {
         "metadata": "{}",
         "name": "industry",
         "type": "\"string\""
        },
        {
         "metadata": "{}",
         "name": "headquarters",
         "type": "\"string\""
        },
        {
         "metadata": "{}",
         "name": "founded",
         "type": "\"double\""
        }
       ],
       "type": "table"
      }
     },
     "output_type": "display_data"
    }
   ],
   "source": [
    "companies_df.limit(3).display()"
   ]
  },
  {
   "cell_type": "code",
   "execution_count": 0,
   "metadata": {
    "application/vnd.databricks.v1+cell": {
     "cellMetadata": {
      "byteLimit": 2048000,
      "rowLimit": 10000
     },
     "inputWidgets": {},
     "nuid": "31fc0378-92d0-4141-b6ae-ebe606d3012b",
     "showTitle": false,
     "tableResultSettingsMap": {},
     "title": ""
    }
   },
   "outputs": [
    {
     "output_type": "display_data",
     "data": {
      "text/html": [
       "<style scoped>\n",
       "  .table-result-container {\n",
       "    max-height: 300px;\n",
       "    overflow: auto;\n",
       "  }\n",
       "  table, th, td {\n",
       "    border: 1px solid black;\n",
       "    border-collapse: collapse;\n",
       "  }\n",
       "  th, td {\n",
       "    padding: 5px;\n",
       "  }\n",
       "  th {\n",
       "    text-align: left;\n",
       "  }\n",
       "</style><div class='table-result-container'><table class='table-result'><thead style='background-color: white'><tr><th>requirements_id</th><th>experience_years</th><th>education_level</th><th>leadership</th><th>excel</th><th>tableau</th><th>sql</th><th>scala</th><th>spark</th><th>communication</th><th>r</th><th>powerbi</th><th>hadoop</th><th>python</th></tr></thead><tbody><tr><td>req00000</td><td>0</td><td>Bachelor</td><td>1</td><td>0</td><td>0</td><td>0</td><td>0</td><td>0</td><td>0</td><td>0</td><td>0</td><td>1</td><td>1</td></tr><tr><td>req00001</td><td>1</td><td>None</td><td>0</td><td>0</td><td>0</td><td>0</td><td>1</td><td>0</td><td>1</td><td>0</td><td>1</td><td>0</td><td>0</td></tr><tr><td>req00002</td><td>1</td><td>Master</td><td>0</td><td>0</td><td>0</td><td>0</td><td>0</td><td>1</td><td>0</td><td>0</td><td>1</td><td>0</td><td>0</td></tr></tbody></table></div>"
      ]
     },
     "metadata": {
      "application/vnd.databricks.v1+output": {
       "addedWidgets": {},
       "aggData": [],
       "aggError": "",
       "aggOverflow": false,
       "aggSchema": [],
       "aggSeriesLimitReached": false,
       "aggType": "",
       "arguments": {},
       "columnCustomDisplayInfos": {},
       "data": [
        [
         "req00000",
         0,
         "Bachelor",
         1,
         0,
         0,
         0,
         0,
         0,
         0,
         0,
         0,
         1,
         1
        ],
        [
         "req00001",
         1,
         "None",
         0,
         0,
         0,
         0,
         1,
         0,
         1,
         0,
         1,
         0,
         0
        ],
        [
         "req00002",
         1,
         "Master",
         0,
         0,
         0,
         0,
         0,
         1,
         0,
         0,
         1,
         0,
         0
        ]
       ],
       "datasetInfos": [],
       "dbfsResultPath": null,
       "isJsonSchema": true,
       "metadata": {},
       "overflow": false,
       "plotOptions": {
        "customPlotOptions": {},
        "displayType": "table",
        "pivotAggregation": null,
        "pivotColumns": null,
        "xColumns": null,
        "yColumns": null
       },
       "removedWidgets": [],
       "schema": [
        {
         "metadata": "{}",
         "name": "requirements_id",
         "type": "\"string\""
        },
        {
         "metadata": "{}",
         "name": "experience_years",
         "type": "\"integer\""
        },
        {
         "metadata": "{}",
         "name": "education_level",
         "type": "\"string\""
        },
        {
         "metadata": "{}",
         "name": "leadership",
         "type": "\"integer\""
        },
        {
         "metadata": "{}",
         "name": "excel",
         "type": "\"integer\""
        },
        {
         "metadata": "{}",
         "name": "tableau",
         "type": "\"integer\""
        },
        {
         "metadata": "{}",
         "name": "sql",
         "type": "\"integer\""
        },
        {
         "metadata": "{}",
         "name": "scala",
         "type": "\"integer\""
        },
        {
         "metadata": "{}",
         "name": "spark",
         "type": "\"integer\""
        },
        {
         "metadata": "{}",
         "name": "communication",
         "type": "\"integer\""
        },
        {
         "metadata": "{}",
         "name": "r",
         "type": "\"integer\""
        },
        {
         "metadata": "{}",
         "name": "powerbi",
         "type": "\"integer\""
        },
        {
         "metadata": "{}",
         "name": "hadoop",
         "type": "\"integer\""
        },
        {
         "metadata": "{}",
         "name": "python",
         "type": "\"integer\""
        }
       ],
       "type": "table"
      }
     },
     "output_type": "display_data"
    }
   ],
   "source": [
    "requirements_df.limit(3).display()"
   ]
  },
  {
   "cell_type": "code",
   "execution_count": 0,
   "metadata": {
    "application/vnd.databricks.v1+cell": {
     "cellMetadata": {
      "byteLimit": 2048000,
      "rowLimit": 10000
     },
     "inputWidgets": {},
     "nuid": "5159356c-0628-43e0-9d40-bdbbabe3c4b3",
     "showTitle": false,
     "tableResultSettingsMap": {},
     "title": ""
    }
   },
   "outputs": [
    {
     "output_type": "display_data",
     "data": {
      "text/html": [
       "<style scoped>\n",
       "  .table-result-container {\n",
       "    max-height: 300px;\n",
       "    overflow: auto;\n",
       "  }\n",
       "  table, th, td {\n",
       "    border: 1px solid black;\n",
       "    border-collapse: collapse;\n",
       "  }\n",
       "  th, td {\n",
       "    padding: 5px;\n",
       "  }\n",
       "  th {\n",
       "    text-align: left;\n",
       "  }\n",
       "</style><div class='table-result-container'><table class='table-result'><thead style='background-color: white'><tr><th>salary_id</th><th>salary_range</th><th>currency</th><th>compensation_type</th></tr></thead><tbody><tr><td>sal00000</td><td>$60k - $80k</td><td>CAD</td><td>Hourly</td></tr><tr><td>sal00001</td><td>$60k - $80k</td><td>CAD</td><td>Hourly</td></tr><tr><td>sal00002</td><td>$60k - $80k</td><td>CAD</td><td>Annual</td></tr></tbody></table></div>"
      ]
     },
     "metadata": {
      "application/vnd.databricks.v1+output": {
       "addedWidgets": {},
       "aggData": [],
       "aggError": "",
       "aggOverflow": false,
       "aggSchema": [],
       "aggSeriesLimitReached": false,
       "aggType": "",
       "arguments": {},
       "columnCustomDisplayInfos": {},
       "data": [
        [
         "sal00000",
         "$60k - $80k",
         "CAD",
         "Hourly"
        ],
        [
         "sal00001",
         "$60k - $80k",
         "CAD",
         "Hourly"
        ],
        [
         "sal00002",
         "$60k - $80k",
         "CAD",
         "Annual"
        ]
       ],
       "datasetInfos": [],
       "dbfsResultPath": null,
       "isJsonSchema": true,
       "metadata": {},
       "overflow": false,
       "plotOptions": {
        "customPlotOptions": {},
        "displayType": "table",
        "pivotAggregation": null,
        "pivotColumns": null,
        "xColumns": null,
        "yColumns": null
       },
       "removedWidgets": [],
       "schema": [
        {
         "metadata": "{}",
         "name": "salary_id",
         "type": "\"string\""
        },
        {
         "metadata": "{}",
         "name": "salary_range",
         "type": "\"string\""
        },
        {
         "metadata": "{}",
         "name": "currency",
         "type": "\"string\""
        },
        {
         "metadata": "{}",
         "name": "compensation_type",
         "type": "\"string\""
        }
       ],
       "type": "table"
      }
     },
     "output_type": "display_data"
    }
   ],
   "source": [
    "salaries_df.limit(3).display()"
   ]
  },
  {
   "cell_type": "markdown",
   "metadata": {
    "application/vnd.databricks.v1+cell": {
     "cellMetadata": {
      "byteLimit": 2048000,
      "rowLimit": 10000
     },
     "inputWidgets": {},
     "nuid": "1c93a3ba-6396-404a-868f-454bd580131f",
     "showTitle": false,
     "tableResultSettingsMap": {},
     "title": ""
    }
   },
   "source": [
    "Now, we can push our clean data to a new database. First, I create a new database:"
   ]
  },
  {
   "cell_type": "code",
   "execution_count": 0,
   "metadata": {
    "application/vnd.databricks.v1+cell": {
     "cellMetadata": {
      "byteLimit": 2048000,
      "rowLimit": 10000
     },
     "inputWidgets": {},
     "nuid": "63db1969-4bc5-4901-904d-fe5e40032bb6",
     "showTitle": false,
     "tableResultSettingsMap": {},
     "title": ""
    }
   },
   "outputs": [
    {
     "output_type": "stream",
     "name": "stdout",
     "output_type": "stream",
     "text": [
      "Out[82]: DataFrame[]"
     ]
    }
   ],
   "source": [
    "spark.sql(\"CREATE DATABASE IF NOT EXISTS clean_database\")"
   ]
  },
  {
   "cell_type": "markdown",
   "metadata": {
    "application/vnd.databricks.v1+cell": {
     "cellMetadata": {
      "byteLimit": 2048000,
      "rowLimit": 10000
     },
     "inputWidgets": {},
     "nuid": "caaa3bb6-ebde-45e4-b31f-13e07d0ded18",
     "showTitle": false,
     "tableResultSettingsMap": {},
     "title": ""
    }
   },
   "source": [
    "Now, I push above tables into the new database."
   ]
  },
  {
   "cell_type": "code",
   "execution_count": 0,
   "metadata": {
    "application/vnd.databricks.v1+cell": {
     "cellMetadata": {
      "byteLimit": 2048000,
      "rowLimit": 10000
     },
     "inputWidgets": {},
     "nuid": "28cbf1d8-eddc-4c70-8c18-ca70ce519a34",
     "showTitle": false,
     "tableResultSettingsMap": {},
     "title": ""
    }
   },
   "outputs": [],
   "source": [
    "jobs_df.write.mode(\"overwrite\").saveAsTable(\"clean_database.db_jobs\")\n",
    "companies_df.write.mode(\"overwrite\").saveAsTable(\"clean_database.db_companies\")\n",
    "requirements_df.write.mode(\"overwrite\").saveAsTable(\"clean_database.db_requirements\")\n",
    "salaries_df.write.mode(\"overwrite\").saveAsTable(\"clean_database.db_salaries\")"
   ]
  },
  {
   "cell_type": "markdown",
   "metadata": {
    "application/vnd.databricks.v1+cell": {
     "cellMetadata": {
      "byteLimit": 2048000,
      "rowLimit": 10000
     },
     "inputWidgets": {},
     "nuid": "c1dc67d0-2d2c-40b3-97ca-539275de34f5",
     "showTitle": false,
     "tableResultSettingsMap": {},
     "title": ""
    }
   },
   "source": [
    "## 8. Exploratory Data Analysis with (Spark SQL)"
   ]
  },
  {
   "cell_type": "markdown",
   "metadata": {
    "application/vnd.databricks.v1+cell": {
     "cellMetadata": {
      "byteLimit": 2048000,
      "rowLimit": 10000
     },
     "inputWidgets": {},
     "nuid": "dbf516da-9f0c-4e29-ab18-24d0b65f2569",
     "showTitle": false,
     "tableResultSettingsMap": {},
     "title": ""
    }
   },
   "source": [
    "In this section, I answer some questions to create business values by using PySpark and Spark SQL."
   ]
  },
  {
   "cell_type": "markdown",
   "metadata": {
    "application/vnd.databricks.v1+cell": {
     "cellMetadata": {
      "byteLimit": 2048000,
      "rowLimit": 10000
     },
     "inputWidgets": {},
     "nuid": "ef0173ce-dfae-4a2d-aa5e-4ad8ce81c9fa",
     "showTitle": false,
     "tableResultSettingsMap": {},
     "title": ""
    }
   },
   "source": [
    "#### `Most Frequent Salary Range for each Job Yype`"
   ]
  },
  {
   "cell_type": "code",
   "execution_count": 0,
   "metadata": {
    "application/vnd.databricks.v1+cell": {
     "cellMetadata": {
      "byteLimit": 2048000,
      "implicitDf": true,
      "rowLimit": 10000
     },
     "inputWidgets": {},
     "nuid": "42ba7556-6f6a-4c21-9eef-28fcd6a5d791",
     "showTitle": false,
     "tableResultSettingsMap": {},
     "title": ""
    }
   },
   "outputs": [
    {
     "output_type": "display_data",
     "data": {
      "text/html": [
       "<style scoped>\n",
       "  .table-result-container {\n",
       "    max-height: 300px;\n",
       "    overflow: auto;\n",
       "  }\n",
       "  table, th, td {\n",
       "    border: 1px solid black;\n",
       "    border-collapse: collapse;\n",
       "  }\n",
       "  th, td {\n",
       "    padding: 5px;\n",
       "  }\n",
       "  th {\n",
       "    text-align: left;\n",
       "  }\n",
       "</style><div class='table-result-container'><table class='table-result'><thead style='background-color: white'><tr><th>job_type</th><th>salary_range</th><th>Number_of_Job</th></tr></thead><tbody><tr><td>Full Time</td><td>$50K - $75K</td><td>2874</td></tr><tr><td>Full Time</td><td>Negotiable</td><td>2863</td></tr><tr><td>Full Time</td><td>$90K - $120K</td><td>1469</td></tr><tr><td>Full Time</td><td>$80K</td><td>1443</td></tr><tr><td>Full Time</td><td>$60k - $80k</td><td>1367</td></tr><tr><td>Contract</td><td>Negotiable</td><td>983</td></tr><tr><td>Contract</td><td>$50K - $75K</td><td>965</td></tr><tr><td>Part Time</td><td>$50K - $75K</td><td>958</td></tr><tr><td>Part Time</td><td>Negotiable</td><td>932</td></tr><tr><td>Internship</td><td>Negotiable</td><td>920</td></tr><tr><td>Internship</td><td>$50K - $75K</td><td>918</td></tr><tr><td>Internship</td><td>$90K - $120K</td><td>501</td></tr><tr><td>Part Time</td><td>$80K</td><td>498</td></tr><tr><td>Internship</td><td>$80K</td><td>489</td></tr><tr><td>Part Time</td><td>$60k - $80k</td><td>488</td></tr><tr><td>Part Time</td><td>$90K - $120K</td><td>480</td></tr><tr><td>Contract</td><td>$80K</td><td>471</td></tr><tr><td>Internship</td><td>$60k - $80k</td><td>466</td></tr><tr><td>Contract</td><td>$60k - $80k</td><td>461</td></tr><tr><td>Contract</td><td>$90K - $120K</td><td>454</td></tr></tbody></table></div>"
      ]
     },
     "metadata": {
      "application/vnd.databricks.v1+output": {
       "addedWidgets": {},
       "aggData": [],
       "aggError": "",
       "aggOverflow": false,
       "aggSchema": [],
       "aggSeriesLimitReached": false,
       "aggType": "",
       "arguments": {},
       "columnCustomDisplayInfos": {},
       "data": [
        [
         "Full Time",
         "$50K - $75K",
         2874
        ],
        [
         "Full Time",
         "Negotiable",
         2863
        ],
        [
         "Full Time",
         "$90K - $120K",
         1469
        ],
        [
         "Full Time",
         "$80K",
         1443
        ],
        [
         "Full Time",
         "$60k - $80k",
         1367
        ],
        [
         "Contract",
         "Negotiable",
         983
        ],
        [
         "Contract",
         "$50K - $75K",
         965
        ],
        [
         "Part Time",
         "$50K - $75K",
         958
        ],
        [
         "Part Time",
         "Negotiable",
         932
        ],
        [
         "Internship",
         "Negotiable",
         920
        ],
        [
         "Internship",
         "$50K - $75K",
         918
        ],
        [
         "Internship",
         "$90K - $120K",
         501
        ],
        [
         "Part Time",
         "$80K",
         498
        ],
        [
         "Internship",
         "$80K",
         489
        ],
        [
         "Part Time",
         "$60k - $80k",
         488
        ],
        [
         "Part Time",
         "$90K - $120K",
         480
        ],
        [
         "Contract",
         "$80K",
         471
        ],
        [
         "Internship",
         "$60k - $80k",
         466
        ],
        [
         "Contract",
         "$60k - $80k",
         461
        ],
        [
         "Contract",
         "$90K - $120K",
         454
        ]
       ],
       "datasetInfos": [],
       "dbfsResultPath": null,
       "isJsonSchema": true,
       "metadata": {},
       "overflow": false,
       "plotOptions": {
        "customPlotOptions": {},
        "displayType": "table",
        "pivotAggregation": null,
        "pivotColumns": null,
        "xColumns": null,
        "yColumns": null
       },
       "removedWidgets": [],
       "schema": [
        {
         "metadata": "{}",
         "name": "job_type",
         "type": "\"string\""
        },
        {
         "metadata": "{}",
         "name": "salary_range",
         "type": "\"string\""
        },
        {
         "metadata": "{}",
         "name": "Number_of_Job",
         "type": "\"long\""
        }
       ],
       "type": "table"
      }
     },
     "output_type": "display_data"
    }
   ],
   "source": [
    "%sql\n",
    "USE clean_database;\n",
    "\n",
    "SELECT J.job_type, S.salary_range, COUNT(S.salary_range) AS Number_of_Job\n",
    "FROM db_jobs J\n",
    "JOIN db_salaries S ON J.salary_id = S.salary_id\n",
    "GROUP BY J.job_type, S.salary_range\n",
    "ORDER BY COUNT(S.salary_range) DESC"
   ]
  },
  {
   "cell_type": "markdown",
   "metadata": {
    "application/vnd.databricks.v1+cell": {
     "cellMetadata": {},
     "inputWidgets": {},
     "nuid": "55d98512-89e6-4033-aa38-e95c8165c3bb",
     "showTitle": false,
     "tableResultSettingsMap": {},
     "title": ""
    }
   },
   "source": [
    "#### `Most Number of Job Listing for each Company`"
   ]
  },
  {
   "cell_type": "code",
   "execution_count": 0,
   "metadata": {
    "application/vnd.databricks.v1+cell": {
     "cellMetadata": {
      "byteLimit": 2048000,
      "implicitDf": true,
      "rowLimit": 10000
     },
     "inputWidgets": {},
     "nuid": "8b56305c-823e-415c-a791-e21ed3a4b7e0",
     "showTitle": false,
     "tableResultSettingsMap": {},
     "title": ""
    }
   },
   "outputs": [
    {
     "output_type": "display_data",
     "data": {
      "text/html": [
       "<style scoped>\n",
       "  .table-result-container {\n",
       "    max-height: 300px;\n",
       "    overflow: auto;\n",
       "  }\n",
       "  table, th, td {\n",
       "    border: 1px solid black;\n",
       "    border-collapse: collapse;\n",
       "  }\n",
       "  th, td {\n",
       "    padding: 5px;\n",
       "  }\n",
       "  th {\n",
       "    text-align: left;\n",
       "  }\n",
       "</style><div class='table-result-container'><table class='table-result'><thead style='background-color: white'><tr><th>company_name</th><th>Number_of_Job</th></tr></thead><tbody><tr><td>Taylor PLC</td><td>216</td></tr><tr><td>Simpson LLC</td><td>203</td></tr><tr><td>Miller Ltd</td><td>127</td></tr><tr><td>Robbins Group</td><td>126</td></tr><tr><td>Martin and Sons</td><td>126</td></tr><tr><td>Williams and Sons</td><td>121</td></tr><tr><td>Gonzalez, Ortega and Fisher</td><td>121</td></tr><tr><td>Brown, Keith and Arroyo</td><td>120</td></tr><tr><td>Mathews-Haney</td><td>120</td></tr><tr><td>Brown-Sawyer</td><td>119</td></tr></tbody></table></div>"
      ]
     },
     "metadata": {
      "application/vnd.databricks.v1+output": {
       "addedWidgets": {},
       "aggData": [],
       "aggError": "",
       "aggOverflow": false,
       "aggSchema": [],
       "aggSeriesLimitReached": false,
       "aggType": "",
       "arguments": {},
       "columnCustomDisplayInfos": {},
       "data": [
        [
         "Taylor PLC",
         216
        ],
        [
         "Simpson LLC",
         203
        ],
        [
         "Miller Ltd",
         127
        ],
        [
         "Robbins Group",
         126
        ],
        [
         "Martin and Sons",
         126
        ],
        [
         "Williams and Sons",
         121
        ],
        [
         "Gonzalez, Ortega and Fisher",
         121
        ],
        [
         "Brown, Keith and Arroyo",
         120
        ],
        [
         "Mathews-Haney",
         120
        ],
        [
         "Brown-Sawyer",
         119
        ]
       ],
       "datasetInfos": [],
       "dbfsResultPath": null,
       "isJsonSchema": true,
       "metadata": {},
       "overflow": false,
       "plotOptions": {
        "customPlotOptions": {},
        "displayType": "table",
        "pivotAggregation": null,
        "pivotColumns": null,
        "xColumns": null,
        "yColumns": null
       },
       "removedWidgets": [],
       "schema": [
        {
         "metadata": "{}",
         "name": "company_name",
         "type": "\"string\""
        },
        {
         "metadata": "{}",
         "name": "Number_of_Job",
         "type": "\"long\""
        }
       ],
       "type": "table"
      }
     },
     "output_type": "display_data"
    }
   ],
   "source": [
    "%sql\n",
    "USE clean_database;\n",
    "\n",
    "SELECT C.company_name, COUNT(J.job_id) AS Number_of_Job\n",
    "FROM db_companies C\n",
    "JOIN db_jobs J ON C.company_id = J.company_id\n",
    "GROUP BY C.company_name\n",
    "ORDER BY COUNT(J.job_id) DESC\n",
    "LIMIT 10"
   ]
  },
  {
   "cell_type": "markdown",
   "metadata": {
    "application/vnd.databricks.v1+cell": {
     "cellMetadata": {},
     "inputWidgets": {},
     "nuid": "0d72aee0-d2ea-4b15-bf73-311e833a84be",
     "showTitle": false,
     "tableResultSettingsMap": {},
     "title": ""
    }
   },
   "source": [
    "#### `Percentage of Jobs require knowledge Python, SQL and Spark`"
   ]
  },
  {
   "cell_type": "code",
   "execution_count": 0,
   "metadata": {
    "application/vnd.databricks.v1+cell": {
     "cellMetadata": {
      "byteLimit": 2048000,
      "implicitDf": true,
      "rowLimit": 10000
     },
     "inputWidgets": {},
     "nuid": "71688a19-99f0-4fcb-b09d-27beeb748d6c",
     "showTitle": false,
     "tableResultSettingsMap": {},
     "title": ""
    }
   },
   "outputs": [
    {
     "output_type": "display_data",
     "data": {
      "text/html": [
       "<style scoped>\n",
       "  .table-result-container {\n",
       "    max-height: 300px;\n",
       "    overflow: auto;\n",
       "  }\n",
       "  table, th, td {\n",
       "    border: 1px solid black;\n",
       "    border-collapse: collapse;\n",
       "  }\n",
       "  th, td {\n",
       "    padding: 5px;\n",
       "  }\n",
       "  th {\n",
       "    text-align: left;\n",
       "  }\n",
       "</style><div class='table-result-container'><table class='table-result'><thead style='background-color: white'><tr><th>Percentage_Python_SQL_Spark</th></tr></thead><tbody><tr><td>2.32</td></tr></tbody></table></div>"
      ]
     },
     "metadata": {
      "application/vnd.databricks.v1+output": {
       "addedWidgets": {},
       "aggData": [],
       "aggError": "",
       "aggOverflow": false,
       "aggSchema": [],
       "aggSeriesLimitReached": false,
       "aggType": "",
       "arguments": {},
       "columnCustomDisplayInfos": {},
       "data": [
        [
         2.32
        ]
       ],
       "datasetInfos": [],
       "dbfsResultPath": null,
       "isJsonSchema": true,
       "metadata": {},
       "overflow": false,
       "plotOptions": {
        "customPlotOptions": {},
        "displayType": "table",
        "pivotAggregation": null,
        "pivotColumns": null,
        "xColumns": null,
        "yColumns": null
       },
       "removedWidgets": [],
       "schema": [
        {
         "metadata": "{}",
         "name": "Percentage_Python_SQL_Spark",
         "type": "\"double\""
        }
       ],
       "type": "table"
      }
     },
     "output_type": "display_data"
    }
   ],
   "source": [
    "%sql\n",
    "USE clean_database;\n",
    "\n",
    "CREATE OR REPLACE TEMP VIEW PythonSQLSpark AS\n",
    "SELECT requirements_id, python, sql, spark,\n",
    "  CASE\n",
    "    WHEN (python + sql + spark) = 3 THEN 1\n",
    "    ELSE 0\n",
    "  END AS skill_match\n",
    "FROM db_requirements;\n",
    "\n",
    "SELECT (sum(PSS.skill_match)/count(J.job_id) * 100) AS Percentage_Python_SQL_Spark\n",
    "FROM db_jobs J\n",
    "left JOIN PythonSQLSpark PSS ON PSS.requirements_id = J.requirements_id"
   ]
  }
 ],
 "metadata": {
  "application/vnd.databricks.v1+notebook": {
   "computePreferences": null,
   "dashboards": [],
   "environmentMetadata": {
    "base_environment": "",
    "environment_version": "1"
   },
   "inputWidgetPreferences": null,
   "language": "python",
   "notebookMetadata": {
    "mostRecentlyExecutedCommandWithImplicitDF": {
     "commandId": 1634937290037225,
     "dataframes": [
      "_sqldf"
     ]
    },
    "pythonIndentUnit": 4
   },
   "notebookName": "Cleaning and Exploring Job Listing Data Using PySpark",
   "widgets": {}
  }
 },
 "nbformat": 4,
 "nbformat_minor": 0
}